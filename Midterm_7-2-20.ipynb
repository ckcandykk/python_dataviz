{
 "cells": [
  {
   "cell_type": "markdown",
   "metadata": {},
   "source": [
    "1> สร้าง function ชื่อ smartDict ซึ่งทำหน้าที่:\n",
    "- function รับ input เป็น list 2 ตัวที่มีขนาดเท่ากัน โดย list แรกเ็น list ของตัวเลข list ที่สองเป็น list ของ text\n",
    "- ถ้าค่าใน list แรกเป็นเลขคู่ จะสร้าง dict ที่มี key เป็นค่าจาก list ตัวที่ 1 และ value จาก list ตัวที่ 2\n",
    "- ถ้าค่าใน list แรกเป็นเลขคี่ จะสร้าง dict ที่มี key เป็นค่าจาก list ตัวที่ 2 และ value จาก list ตัวที่ 1\n",
    "- output ของ function คือ dict ที่สร้างขึ้น\n",
    "\n",
    "เช่น\n",
    "\n",
    "output1 = smartDict( [1,2,3],['apple','banana','orange'])\n",
    "\n",
    "จะได้ output1 เป็น { 1:'apple'   , 'banana' : 2,3:'orange' }"
   ]
  },
  {
   "cell_type": "code",
   "execution_count": 318,
   "metadata": {},
   "outputs": [],
   "source": [
    "def smartDict(listnumber, listtext):\n",
    "    smartdict = {}\n",
    "    for index in range(len(listnumber)): \n",
    "        if index == '1' or '3' or '5':\n",
    "            smartdict[listnumber[index]] = listtext[index]\n",
    "        else:\n",
    "            smartdict[listtext[index]] = listnumber[index]\n",
    "    return smartdict   "
   ]
  },
  {
   "cell_type": "code",
   "execution_count": 319,
   "metadata": {},
   "outputs": [
    {
     "data": {
      "text/plain": [
       "{1: 'apple', 2: 'banana', 3: 'orange'}"
      ]
     },
     "execution_count": 319,
     "metadata": {},
     "output_type": "execute_result"
    }
   ],
   "source": [
    "smartDict([1,2,3],['apple','banana','orange'])"
   ]
  },
  {
   "cell_type": "markdown",
   "metadata": {},
   "source": [
    "2> จากไฟล์ Wuhan_nCoV_GNome.txt จงเขียนโปรแกรมเพื่อตอบคำถามต่อไปนี้\n",
    "        - กรดอะมิโนใด (A,T,G,C) มีปริมาณมากที่สุดและที่เท่าไหร่\n",
    "        - จงหา sequence ที่มีขนาด 3 และ 4 ที่เกิดขึ้นซ้ำมากที่สุด"
   ]
  },
  {
   "cell_type": "code",
   "execution_count": 51,
   "metadata": {},
   "outputs": [],
   "source": [
    "import pandas as pd"
   ]
  },
  {
   "cell_type": "code",
   "execution_count": 52,
   "metadata": {
    "scrolled": true
   },
   "outputs": [
    {
     "data": {
      "text/html": [
       "<div>\n",
       "<style scoped>\n",
       "    .dataframe tbody tr th:only-of-type {\n",
       "        vertical-align: middle;\n",
       "    }\n",
       "\n",
       "    .dataframe tbody tr th {\n",
       "        vertical-align: top;\n",
       "    }\n",
       "\n",
       "    .dataframe thead th {\n",
       "        text-align: right;\n",
       "    }\n",
       "</style>\n",
       "<table border=\"1\" class=\"dataframe\">\n",
       "  <thead>\n",
       "    <tr style=\"text-align: right;\">\n",
       "      <th></th>\n",
       "      <th>0</th>\n",
       "    </tr>\n",
       "  </thead>\n",
       "  <tbody>\n",
       "    <tr>\n",
       "      <th>0</th>\n",
       "      <td>ATTAAAGGTTTATACCTTCCCAGGTAACAAACCAACCAACTTTCGA...</td>\n",
       "    </tr>\n",
       "    <tr>\n",
       "      <th>1</th>\n",
       "      <td>CGAACTTTAAAATCTGTGTGGCTGTCACTCGGCTGCATGCTTAGTG...</td>\n",
       "    </tr>\n",
       "    <tr>\n",
       "      <th>2</th>\n",
       "      <td>TAATTACTGTCGTTGACAGGACACGAGTAACTCGTCTATCTTCTGC...</td>\n",
       "    </tr>\n",
       "    <tr>\n",
       "      <th>3</th>\n",
       "      <td>TTGCAGCCGATCATCAGCACATCTAGGTTTCGTCCGGGTGTGACCG...</td>\n",
       "    </tr>\n",
       "    <tr>\n",
       "      <th>4</th>\n",
       "      <td>CCTGGTTTCAACGAGAAAACACACGTCCAACTCAGTTTGCCTGTTT...</td>\n",
       "    </tr>\n",
       "  </tbody>\n",
       "</table>\n",
       "</div>"
      ],
      "text/plain": [
       "                                                   0\n",
       "0  ATTAAAGGTTTATACCTTCCCAGGTAACAAACCAACCAACTTTCGA...\n",
       "1  CGAACTTTAAAATCTGTGTGGCTGTCACTCGGCTGCATGCTTAGTG...\n",
       "2  TAATTACTGTCGTTGACAGGACACGAGTAACTCGTCTATCTTCTGC...\n",
       "3  TTGCAGCCGATCATCAGCACATCTAGGTTTCGTCCGGGTGTGACCG...\n",
       "4  CCTGGTTTCAACGAGAAAACACACGTCCAACTCAGTTTGCCTGTTT..."
      ]
     },
     "execution_count": 52,
     "metadata": {},
     "output_type": "execute_result"
    }
   ],
   "source": [
    "DNAseq = pd.read_csv('Wuhan_nCoV_GNome.txt', header = None)\n",
    "DNAseq.head()"
   ]
  },
  {
   "cell_type": "markdown",
   "metadata": {},
   "source": [
    " - กรดอะมิโนใด (A,T,G,C) มีปริมาณมากที่สุดและที่เท่าไหร่"
   ]
  },
  {
   "cell_type": "code",
   "execution_count": 55,
   "metadata": {},
   "outputs": [],
   "source": [
    "def countChar(seq,character):\n",
    "    charcount = 0\n",
    "    for char in seq:\n",
    "        if char == character:\n",
    "            charcount = charcount +1\n",
    "    return charcount"
   ]
  },
  {
   "cell_type": "code",
   "execution_count": 56,
   "metadata": {},
   "outputs": [
    {
     "name": "stdout",
     "output_type": "stream",
     "text": [
      "There are 8954 As, 9594 Ts, 5863 Gs, 5492 Cs\n"
     ]
    }
   ],
   "source": [
    "ANum = 0\n",
    "TNum = 0\n",
    "GNum = 0\n",
    "CNum = 0\n",
    "DNAlong = 0\n",
    "for row in range(DNAseq.shape[0]): \n",
    "    ANum += countChar(DNAseq.iloc[row][0],'A')\n",
    "    TNum += countChar(DNAseq.iloc[row][0],'T')\n",
    "    GNum += countChar(DNAseq.iloc[row][0],'G')\n",
    "    CNum += countChar(DNAseq.iloc[row][0],'C')\n",
    "    \n",
    "print(f'There are {ANum} As, {TNum} Ts, {GNum} Gs, {CNum} Cs')"
   ]
  },
  {
   "cell_type": "markdown",
   "metadata": {},
   "source": [
    "- จงหา sequence ที่มีขนาด 3 และ 4 ที่เกิดขึ้นซ้ำมากที่สุด"
   ]
  },
  {
   "cell_type": "code",
   "execution_count": 65,
   "metadata": {},
   "outputs": [],
   "source": [
    "def populate3charstring(seq):\n",
    "    str_list = list()\n",
    "    for i in range(len(seq)-2):\n",
    "        str_list.append(seq[i:i+3])\n",
    "    return str_list"
   ]
  },
  {
   "cell_type": "code",
   "execution_count": 66,
   "metadata": {},
   "outputs": [
    {
     "data": {
      "text/plain": [
       "['ATT', 'TTA', 'TAA', 'AAA', 'AAG', 'AGG', 'GGT', 'GTT', 'TTT']"
      ]
     },
     "execution_count": 66,
     "metadata": {},
     "output_type": "execute_result"
    }
   ],
   "source": [
    "populate3charstring('ATTAAAGGTTT')"
   ]
  },
  {
   "cell_type": "code",
   "execution_count": 69,
   "metadata": {},
   "outputs": [],
   "source": [
    "list_all_3char = list()\n",
    "for row in range(DNAseq.shape[0]):\n",
    "    list_all_3char = list_all_3char + populate3charstring(DNAseq.iloc[row][0])"
   ]
  },
  {
   "cell_type": "code",
   "execution_count": 70,
   "metadata": {},
   "outputs": [
    {
     "data": {
      "text/plain": [
       "29047"
      ]
     },
     "execution_count": 70,
     "metadata": {},
     "output_type": "execute_result"
    }
   ],
   "source": [
    "len(list_all_3char)"
   ]
  },
  {
   "cell_type": "code",
   "execution_count": 71,
   "metadata": {},
   "outputs": [],
   "source": [
    "unique_3char = list(set(list_all_3char))"
   ]
  },
  {
   "cell_type": "code",
   "execution_count": 73,
   "metadata": {},
   "outputs": [
    {
     "data": {
      "text/plain": [
       "64"
      ]
     },
     "execution_count": 73,
     "metadata": {},
     "output_type": "execute_result"
    }
   ],
   "source": [
    "len(unique_3char)"
   ]
  },
  {
   "cell_type": "code",
   "execution_count": 75,
   "metadata": {},
   "outputs": [],
   "source": [
    "dict_3char = {}\n",
    "for sub_str in unique_3char:\n",
    "    num = 0\n",
    "    for s in list_all_3char:\n",
    "        if sub_str == s:\n",
    "            num += 1\n",
    "    dict_3char[sub_str] = num"
   ]
  },
  {
   "cell_type": "code",
   "execution_count": 80,
   "metadata": {},
   "outputs": [],
   "source": [
    "maxVal3 = -100\n",
    "maxKey3 = None\n",
    "for k in dict_3char.keys():\n",
    "    if dict_3char[k] > maxVal3:\n",
    "        maxVal3 = dict_3char[k]\n",
    "        maxKey3 = k"
   ]
  },
  {
   "cell_type": "code",
   "execution_count": 81,
   "metadata": {},
   "outputs": [
    {
     "data": {
      "text/plain": [
       "'TTT'"
      ]
     },
     "execution_count": 81,
     "metadata": {},
     "output_type": "execute_result"
    }
   ],
   "source": [
    "maxKey3"
   ]
  },
  {
   "cell_type": "code",
   "execution_count": 93,
   "metadata": {},
   "outputs": [
    {
     "name": "stdout",
     "output_type": "stream",
     "text": [
      "max 3-long-sequence is TTT with frequency equals 984\n"
     ]
    }
   ],
   "source": [
    "print(f'max 3-long-sequence is {maxKey3} with frequency equals {maxVal3}')"
   ]
  },
  {
   "cell_type": "code",
   "execution_count": 84,
   "metadata": {},
   "outputs": [],
   "source": [
    "def populate4charstring(seq):\n",
    "    str_list = list()\n",
    "    for i in range(len(seq)-3):\n",
    "        str_list.append(seq[i:i+4])\n",
    "    return str_list"
   ]
  },
  {
   "cell_type": "code",
   "execution_count": 85,
   "metadata": {},
   "outputs": [
    {
     "data": {
      "text/plain": [
       "['ATTA', 'TTAA', 'TAAA', 'AAAG', 'AAGG', 'AGGT', 'GGTT', 'GTTT']"
      ]
     },
     "execution_count": 85,
     "metadata": {},
     "output_type": "execute_result"
    }
   ],
   "source": [
    "populate4charstring('ATTAAAGGTTT')"
   ]
  },
  {
   "cell_type": "code",
   "execution_count": 86,
   "metadata": {},
   "outputs": [],
   "source": [
    "list_all_4char = list()\n",
    "for row in range(DNAseq.shape[0]):\n",
    "    list_all_4char = list_all_4char + populate4charstring(DNAseq.iloc[row][0])"
   ]
  },
  {
   "cell_type": "code",
   "execution_count": 87,
   "metadata": {},
   "outputs": [
    {
     "data": {
      "text/plain": [
       "28619"
      ]
     },
     "execution_count": 87,
     "metadata": {},
     "output_type": "execute_result"
    }
   ],
   "source": [
    "len(list_all_4char)"
   ]
  },
  {
   "cell_type": "code",
   "execution_count": 88,
   "metadata": {},
   "outputs": [],
   "source": [
    "unique_4char = list(set(list_all_4char))"
   ]
  },
  {
   "cell_type": "code",
   "execution_count": 89,
   "metadata": {},
   "outputs": [
    {
     "data": {
      "text/plain": [
       "256"
      ]
     },
     "execution_count": 89,
     "metadata": {},
     "output_type": "execute_result"
    }
   ],
   "source": [
    "len(unique_4char)"
   ]
  },
  {
   "cell_type": "code",
   "execution_count": 90,
   "metadata": {},
   "outputs": [],
   "source": [
    "dict_4char = {}\n",
    "for sub_str in unique_4char:\n",
    "    num = 0\n",
    "    for s in list_all_4char:\n",
    "        if sub_str == s:\n",
    "            num += 1\n",
    "    dict_4char[sub_str] = num"
   ]
  },
  {
   "cell_type": "code",
   "execution_count": 91,
   "metadata": {},
   "outputs": [],
   "source": [
    "maxVal4 = -100\n",
    "maxKey4 = None\n",
    "for k in dict_4char.keys():\n",
    "    if dict_4char[k] > maxVal4:\n",
    "        maxVal4 = dict_4char[k]\n",
    "        maxKey4 = k"
   ]
  },
  {
   "cell_type": "code",
   "execution_count": 92,
   "metadata": {},
   "outputs": [
    {
     "data": {
      "text/plain": [
       "'TGTT'"
      ]
     },
     "execution_count": 92,
     "metadata": {},
     "output_type": "execute_result"
    }
   ],
   "source": [
    "maxKey4"
   ]
  },
  {
   "cell_type": "code",
   "execution_count": 94,
   "metadata": {},
   "outputs": [
    {
     "name": "stdout",
     "output_type": "stream",
     "text": [
      "max 4-long-sequence is TGTT with frequency equals 318\n"
     ]
    }
   ],
   "source": [
    "print(f'max 4-long-sequence is {maxKey4} with frequency equals {maxVal4}')"
   ]
  },
  {
   "cell_type": "markdown",
   "metadata": {},
   "source": [
    "3>จากไฟล์ data.xlsx สร้างตาราง\n",
    "        - ใหม่ที่มี 2 columns โดย column แรกชื่อว่า ภาษาอีสาน และมีค่าใน column เป็นค่าจาก column ภาษาอีสานเดิมแต่เปลี่ยน คำที่เป็น '/' เป็น ',' และ column ที่สองชื่อว่าภาษาไทย และค่าใน column ภาษาไทยเดิมแต่เปลี่ยนค่าที่เป็น '/' เป็น ',' เช่น จาก สวัสดี/สุผู้สุคน/เด้อ/จ้า สวัสดี/ทุกๆ คน/นะ/คะ เป็น สวัสดี,สุผู้สุคน,เด้อ,จ้า สวัสดี,ทุกๆ คน,นะ,คะ\n",
    "        - สร้างตาราง Dictionary โดยตารางประกอบด้วยสอง columns คือ ภาษาอีสาน และภาษาไทย โดยค่าใน column ภาษาอีสาน คือคำในภาษาอีสานและ column ภาษาไทย คือคำแปลเป็นภาษากลางของภาษาอีสานใน column แรก (ใช้คำจากตาราง data.xlsx โดยคำที่อยู่ในลำดับเดียวกันของ columns ภาษาอีสาน และภาษาไทย คือคำแปลของกันและกัน ถ้าจำนวนคำของทั้งสอง column เท่ากัน ถ้าจำนวนคำระหว่างสอง column ไม่เท่ากันให้ข้าม record นั้นไป)"
   ]
  },
  {
   "cell_type": "code",
   "execution_count": 172,
   "metadata": {},
   "outputs": [],
   "source": [
    "df = pd.read_excel('data.xlsx')"
   ]
  },
  {
   "cell_type": "code",
   "execution_count": 173,
   "metadata": {},
   "outputs": [
    {
     "data": {
      "text/html": [
       "<div>\n",
       "<style scoped>\n",
       "    .dataframe tbody tr th:only-of-type {\n",
       "        vertical-align: middle;\n",
       "    }\n",
       "\n",
       "    .dataframe tbody tr th {\n",
       "        vertical-align: top;\n",
       "    }\n",
       "\n",
       "    .dataframe thead th {\n",
       "        text-align: right;\n",
       "    }\n",
       "</style>\n",
       "<table border=\"1\" class=\"dataframe\">\n",
       "  <thead>\n",
       "    <tr style=\"text-align: right;\">\n",
       "      <th></th>\n",
       "      <th>No</th>\n",
       "      <th>ภาษาอีสาน</th>\n",
       "      <th>ภาษาไทย</th>\n",
       "      <th>เริ่ม</th>\n",
       "      <th>จบ</th>\n",
       "      <th>จบ-เริ่ม</th>\n",
       "      <th>G2P</th>\n",
       "    </tr>\n",
       "  </thead>\n",
       "  <tbody>\n",
       "    <tr>\n",
       "      <th>0</th>\n",
       "      <td>1.0</td>\n",
       "      <td>สวัสดี/สุผู้สุคน/เด้อ/จ้า</td>\n",
       "      <td>สวัสดี/ทุก ๆ คน/นะ/คะ</td>\n",
       "      <td>00:00:16</td>\n",
       "      <td>00:00:18</td>\n",
       "      <td>00:00:02</td>\n",
       "      <td>s-a-z^-1 w-a-t^-1 d-ii-z^-0 *s-u-z^-1 *ph-uu-z...</td>\n",
       "    </tr>\n",
       "    <tr>\n",
       "      <th>1</th>\n",
       "      <td>2.0</td>\n",
       "      <td>กิน/ข้าว/ก่อน/เด้อ/จ้า/ ไผ/สิ/ถ่า/เค้า/ดาวน์</td>\n",
       "      <td>กิน/ข้าว/ก่อน/นะ/จ้ะ/ใคร/จะ/รอ/เค้า/ดาวน์</td>\n",
       "      <td>00:02:14</td>\n",
       "      <td>00:02:18</td>\n",
       "      <td>00:00:04</td>\n",
       "      <td>k-i-n^-0 *kh-aa-w^-2 *k-@@-n^-1 *d-qq-z^-2 *c-...</td>\n",
       "    </tr>\n",
       "    <tr>\n",
       "      <th>2</th>\n",
       "      <td>3.0</td>\n",
       "      <td>เค้า/ดาว/กะ/ขอ/ให้/เค้า/ดาว/อย่าง/มี/ความ/สุข/...</td>\n",
       "      <td>เค้า/ดาวน์/ก็/ขอ/ให้/เค้า/ดาน์/อย่าง/มี/ความ/ส...</td>\n",
       "      <td>00:02:21</td>\n",
       "      <td>00:02:25</td>\n",
       "      <td>00:00:04</td>\n",
       "      <td>kh-a-w^-3 *d-aa-w^-0 *k-a-z^-1 *kh-@@-z^-4 *h-...</td>\n",
       "    </tr>\n",
       "    <tr>\n",
       "      <th>3</th>\n",
       "      <td>4.0</td>\n",
       "      <td>นี่/จ้า/อา/หาร/เย็น/เป็น/ลา/ซาน/ย่า/กับ/ผัก/สด...</td>\n",
       "      <td>นี่/จ้า/อา/หาร/เย็น/เป็น/ลา/ซาน/ย่า/กับ/ผัก/สด...</td>\n",
       "      <td>00:02:33</td>\n",
       "      <td>00:02:37</td>\n",
       "      <td>00:00:04</td>\n",
       "      <td>n-ii-z^-2 *c-aa-z^-2 *z-aa-z^-0 *h-aa-n^-4 *j-...</td>\n",
       "    </tr>\n",
       "    <tr>\n",
       "      <th>4</th>\n",
       "      <td>5.0</td>\n",
       "      <td>ขอ/ให้/เชิญ/แซ่บ/เด้อ/พี่/น้อง</td>\n",
       "      <td>ขอ/ให้/เชิญ/อร่อย/นะ/ทุก/คน</td>\n",
       "      <td>00:02:38</td>\n",
       "      <td>00:02:41</td>\n",
       "      <td>00:00:03</td>\n",
       "      <td>kh-@@-z^-4 *h-a-j^-2 *ch-qq-n^-0 *s-xx-p^-2 *d...</td>\n",
       "    </tr>\n",
       "    <tr>\n",
       "      <th>5</th>\n",
       "      <td>6.0</td>\n",
       "      <td>แมท/ธิว/บอก/ว่า/อี/แม่/อย่า/พึ่ง/หลับ/เด้อ</td>\n",
       "      <td>แมท/ธิว/บอก/ว่า/คุณ/แม่/อย่า/พึ่ง/หลับ/นะ</td>\n",
       "      <td>00:03:08</td>\n",
       "      <td>00:03:08</td>\n",
       "      <td>00:00:00</td>\n",
       "      <td>m-xx-t^-1 *th-i-w^-0 *b-@@-k^-1 *w-aa-z^-2 *z-...</td>\n",
       "    </tr>\n",
       "    <tr>\n",
       "      <th>6</th>\n",
       "      <td>7.0</td>\n",
       "      <td>เงียบ/แฮงจัด</td>\n",
       "      <td>เงียบ/มาก ๆ</td>\n",
       "      <td>00:09:51</td>\n",
       "      <td>00:09:53</td>\n",
       "      <td>00:00:02</td>\n",
       "      <td>ng-iia-p^-2 *h-xx-ng^-0 *c-a-t^-1</td>\n",
       "    </tr>\n",
       "    <tr>\n",
       "      <th>7</th>\n",
       "      <td>8.0</td>\n",
       "      <td>บ่/มี/ความ/รื่น/เริง/อี/หยัง/เลย/ข้าง/นอก</td>\n",
       "      <td>ไม่/มี/ความ/รื่น/เริง/อะ/ไร/เลย/ด้าน/นอก</td>\n",
       "      <td>00:10:07</td>\n",
       "      <td>00:10:11</td>\n",
       "      <td>00:00:04</td>\n",
       "      <td>b-@@-z^-1 *m-ii-z^-0 *khw-aa-m^-0 *r-vv-n^-2 *...</td>\n",
       "    </tr>\n",
       "    <tr>\n",
       "      <th>8</th>\n",
       "      <td>9.0</td>\n",
       "      <td>มื้อ/นี้/สิ/เบิ่ง/พุ/ตอน/หก/ทุ่ม/จ่ะ</td>\n",
       "      <td>วัน/นี้/จะ/ดู/พุ/ตอน/หก/ทุ่ม/นะ/คะ</td>\n",
       "      <td>00:10:29</td>\n",
       "      <td>00:10:33</td>\n",
       "      <td>00:00:04</td>\n",
       "      <td>m-vv-z^-3 *n-ii-z^-3 *s-i-z^-1 *b-q-ng^-1 *ph-...</td>\n",
       "    </tr>\n",
       "    <tr>\n",
       "      <th>9</th>\n",
       "      <td>10.0</td>\n",
       "      <td>ถ้า/ฝน/ตก/หิ/มะ/ตก/คึ/สิ/บ่/ได้/ออก/ไป</td>\n",
       "      <td>ถ้า/ฝน/ตก/หิ/มะ/ตก/คง/จะ/ไม่/ได้/ออก/ไป</td>\n",
       "      <td>00:10:40</td>\n",
       "      <td>00:10:43</td>\n",
       "      <td>00:00:03</td>\n",
       "      <td>th-aa-z^-2 *f-o-n^-4 *t-o-k^-1 *h-i-z^-1 *m-a-...</td>\n",
       "    </tr>\n",
       "    <tr>\n",
       "      <th>10</th>\n",
       "      <td>11.0</td>\n",
       "      <td>ปี/ที่/แล้ว/ออก/ไป/เบิ่ง/เขา/จุด/พุ/มัน/เป็น/ฝ...</td>\n",
       "      <td>ปี/ที่/แล้ว/ออก/ไป/ดู/เขา/จุด/พุ/มัน/เป็น/ฝน/ห...</td>\n",
       "      <td>00:10:52</td>\n",
       "      <td>00:10:56</td>\n",
       "      <td>00:00:04</td>\n",
       "      <td>p-ii-z^-0 *th-ii-z^-2 *l-xx-w^-3 *z-@@-k^-1 *p...</td>\n",
       "    </tr>\n",
       "    <tr>\n",
       "      <th>11</th>\n",
       "      <td>12.0</td>\n",
       "      <td>เพิ่น/ก้ม/แบบ/คน/เมา/นะ/จ้ะ</td>\n",
       "      <td>เขา/ก้ม/แบบ/คน/เมา/อ่ะ/ค่ะ</td>\n",
       "      <td>00:11:09</td>\n",
       "      <td>00:11:12</td>\n",
       "      <td>00:00:03</td>\n",
       "      <td>ph-qq-n^-2 *k-o-m^-3 *b-xx-p^-1 *kh-o-n^-0 *m-...</td>\n",
       "    </tr>\n",
       "    <tr>\n",
       "      <th>12</th>\n",
       "      <td>13.0</td>\n",
       "      <td>ก้ม/ก้ม/ส่อง/พุ/เพิ่น/จุด/ละ/เพิ่น/กะ/ก้ม/ส่อง...</td>\n",
       "      <td>ก้ม/ก้ม/ส่อง/พุ/เขา/จุด/ละ/เขา/ก็/ก้ม/ส่อง/เขา...</td>\n",
       "      <td>00:11:14</td>\n",
       "      <td>00:11:18</td>\n",
       "      <td>00:00:04</td>\n",
       "      <td>k-o-m^-3 *k-o-m^-3 *s-@-ng^-1 *ph-u-z^-3 *ph-q...</td>\n",
       "    </tr>\n",
       "    <tr>\n",
       "      <th>13</th>\n",
       "      <td>14.0</td>\n",
       "      <td>เพิ่น/สิ/โซ/กล้าม/เพิ่น/หั่น/นะ/พี่น้อง</td>\n",
       "      <td>เขา/จะ/โชว์/กล้าม/เขา/นั่น/แหละ/ทุกคน</td>\n",
       "      <td>00:13:11</td>\n",
       "      <td>00:13:13</td>\n",
       "      <td>00:00:02</td>\n",
       "      <td>ph-qq-n^-2 *s-i-z^-1 *s-oo-z^-0 *kl-aa-m^-2 *p...</td>\n",
       "    </tr>\n",
       "    <tr>\n",
       "      <th>14</th>\n",
       "      <td>15.0</td>\n",
       "      <td>โอ/เค/จ้า/สุผู้สุคน/มื้อ/นี้/จั่ง/ใด๋/กะ/ขอบ/ค...</td>\n",
       "      <td>โอ/เค/จ้า/ทุก ๆ  คน/วัน/นี้/ยัง/ไง/ก็/ขอบ/คุณ/...</td>\n",
       "      <td>00:15:23</td>\n",
       "      <td>00:15:26</td>\n",
       "      <td>00:00:03</td>\n",
       "      <td>z-oo-z^-0 *kh-ee-z^-0 *c-aa-z^-2\\n*s-u-z^-1 *p...</td>\n",
       "    </tr>\n",
       "    <tr>\n",
       "      <th>15</th>\n",
       "      <td>16.0</td>\n",
       "      <td>จ้า/พ้อ/กัน/ใหม่/ใน/คลิป/วิ/ดี/โอ/หน้า/สวัสดี/...</td>\n",
       "      <td>จ้า/เจอ/กัน/ใหม่/ใน/คลิป/วิ/ดี/โอ/หน้า/สวัสดี/...</td>\n",
       "      <td>00:15:30</td>\n",
       "      <td>00:15:33</td>\n",
       "      <td>00:00:03</td>\n",
       "      <td>c-aa-z^-2 *ph-@@-z^-3 *k-a-n^-0 *m-a-j^-1 *n-a...</td>\n",
       "    </tr>\n",
       "    <tr>\n",
       "      <th>16</th>\n",
       "      <td>NaN</td>\n",
       "      <td>NaN</td>\n",
       "      <td>NaN</td>\n",
       "      <td>NaN</td>\n",
       "      <td>NaN</td>\n",
       "      <td>00:00:49</td>\n",
       "      <td>NaN</td>\n",
       "    </tr>\n",
       "  </tbody>\n",
       "</table>\n",
       "</div>"
      ],
      "text/plain": [
       "      No                                          ภาษาอีสาน  \\\n",
       "0    1.0                          สวัสดี/สุผู้สุคน/เด้อ/จ้า   \n",
       "1    2.0       กิน/ข้าว/ก่อน/เด้อ/จ้า/ ไผ/สิ/ถ่า/เค้า/ดาวน์   \n",
       "2    3.0  เค้า/ดาว/กะ/ขอ/ให้/เค้า/ดาว/อย่าง/มี/ความ/สุข/...   \n",
       "3    4.0  นี่/จ้า/อา/หาร/เย็น/เป็น/ลา/ซาน/ย่า/กับ/ผัก/สด...   \n",
       "4    5.0                     ขอ/ให้/เชิญ/แซ่บ/เด้อ/พี่/น้อง   \n",
       "5    6.0         แมท/ธิว/บอก/ว่า/อี/แม่/อย่า/พึ่ง/หลับ/เด้อ   \n",
       "6    7.0                                       เงียบ/แฮงจัด   \n",
       "7    8.0          บ่/มี/ความ/รื่น/เริง/อี/หยัง/เลย/ข้าง/นอก   \n",
       "8    9.0               มื้อ/นี้/สิ/เบิ่ง/พุ/ตอน/หก/ทุ่ม/จ่ะ   \n",
       "9   10.0             ถ้า/ฝน/ตก/หิ/มะ/ตก/คึ/สิ/บ่/ได้/ออก/ไป   \n",
       "10  11.0  ปี/ที่/แล้ว/ออก/ไป/เบิ่ง/เขา/จุด/พุ/มัน/เป็น/ฝ...   \n",
       "11  12.0                        เพิ่น/ก้ม/แบบ/คน/เมา/นะ/จ้ะ   \n",
       "12  13.0  ก้ม/ก้ม/ส่อง/พุ/เพิ่น/จุด/ละ/เพิ่น/กะ/ก้ม/ส่อง...   \n",
       "13  14.0            เพิ่น/สิ/โซ/กล้าม/เพิ่น/หั่น/นะ/พี่น้อง   \n",
       "14  15.0  โอ/เค/จ้า/สุผู้สุคน/มื้อ/นี้/จั่ง/ใด๋/กะ/ขอบ/ค...   \n",
       "15  16.0  จ้า/พ้อ/กัน/ใหม่/ใน/คลิป/วิ/ดี/โอ/หน้า/สวัสดี/...   \n",
       "16   NaN                                                NaN   \n",
       "\n",
       "                                              ภาษาไทย     เริ่ม        จบ  \\\n",
       "0                               สวัสดี/ทุก ๆ คน/นะ/คะ  00:00:16  00:00:18   \n",
       "1           กิน/ข้าว/ก่อน/นะ/จ้ะ/ใคร/จะ/รอ/เค้า/ดาวน์  00:02:14  00:02:18   \n",
       "2   เค้า/ดาวน์/ก็/ขอ/ให้/เค้า/ดาน์/อย่าง/มี/ความ/ส...  00:02:21  00:02:25   \n",
       "3   นี่/จ้า/อา/หาร/เย็น/เป็น/ลา/ซาน/ย่า/กับ/ผัก/สด...  00:02:33  00:02:37   \n",
       "4                         ขอ/ให้/เชิญ/อร่อย/นะ/ทุก/คน  00:02:38  00:02:41   \n",
       "5           แมท/ธิว/บอก/ว่า/คุณ/แม่/อย่า/พึ่ง/หลับ/นะ  00:03:08  00:03:08   \n",
       "6                                         เงียบ/มาก ๆ  00:09:51  00:09:53   \n",
       "7            ไม่/มี/ความ/รื่น/เริง/อะ/ไร/เลย/ด้าน/นอก  00:10:07  00:10:11   \n",
       "8                  วัน/นี้/จะ/ดู/พุ/ตอน/หก/ทุ่ม/นะ/คะ  00:10:29  00:10:33   \n",
       "9             ถ้า/ฝน/ตก/หิ/มะ/ตก/คง/จะ/ไม่/ได้/ออก/ไป  00:10:40  00:10:43   \n",
       "10  ปี/ที่/แล้ว/ออก/ไป/ดู/เขา/จุด/พุ/มัน/เป็น/ฝน/ห...  00:10:52  00:10:56   \n",
       "11                         เขา/ก้ม/แบบ/คน/เมา/อ่ะ/ค่ะ  00:11:09  00:11:12   \n",
       "12  ก้ม/ก้ม/ส่อง/พุ/เขา/จุด/ละ/เขา/ก็/ก้ม/ส่อง/เขา...  00:11:14  00:11:18   \n",
       "13              เขา/จะ/โชว์/กล้าม/เขา/นั่น/แหละ/ทุกคน  00:13:11  00:13:13   \n",
       "14  โอ/เค/จ้า/ทุก ๆ  คน/วัน/นี้/ยัง/ไง/ก็/ขอบ/คุณ/...  00:15:23  00:15:26   \n",
       "15  จ้า/เจอ/กัน/ใหม่/ใน/คลิป/วิ/ดี/โอ/หน้า/สวัสดี/...  00:15:30  00:15:33   \n",
       "16                                                NaN       NaN       NaN   \n",
       "\n",
       "    จบ-เริ่ม                                                G2P  \n",
       "0   00:00:02  s-a-z^-1 w-a-t^-1 d-ii-z^-0 *s-u-z^-1 *ph-uu-z...  \n",
       "1   00:00:04  k-i-n^-0 *kh-aa-w^-2 *k-@@-n^-1 *d-qq-z^-2 *c-...  \n",
       "2   00:00:04  kh-a-w^-3 *d-aa-w^-0 *k-a-z^-1 *kh-@@-z^-4 *h-...  \n",
       "3   00:00:04  n-ii-z^-2 *c-aa-z^-2 *z-aa-z^-0 *h-aa-n^-4 *j-...  \n",
       "4   00:00:03  kh-@@-z^-4 *h-a-j^-2 *ch-qq-n^-0 *s-xx-p^-2 *d...  \n",
       "5   00:00:00  m-xx-t^-1 *th-i-w^-0 *b-@@-k^-1 *w-aa-z^-2 *z-...  \n",
       "6   00:00:02                  ng-iia-p^-2 *h-xx-ng^-0 *c-a-t^-1  \n",
       "7   00:00:04  b-@@-z^-1 *m-ii-z^-0 *khw-aa-m^-0 *r-vv-n^-2 *...  \n",
       "8   00:00:04  m-vv-z^-3 *n-ii-z^-3 *s-i-z^-1 *b-q-ng^-1 *ph-...  \n",
       "9   00:00:03  th-aa-z^-2 *f-o-n^-4 *t-o-k^-1 *h-i-z^-1 *m-a-...  \n",
       "10  00:00:04  p-ii-z^-0 *th-ii-z^-2 *l-xx-w^-3 *z-@@-k^-1 *p...  \n",
       "11  00:00:03  ph-qq-n^-2 *k-o-m^-3 *b-xx-p^-1 *kh-o-n^-0 *m-...  \n",
       "12  00:00:04  k-o-m^-3 *k-o-m^-3 *s-@-ng^-1 *ph-u-z^-3 *ph-q...  \n",
       "13  00:00:02  ph-qq-n^-2 *s-i-z^-1 *s-oo-z^-0 *kl-aa-m^-2 *p...  \n",
       "14  00:00:03  z-oo-z^-0 *kh-ee-z^-0 *c-aa-z^-2\\n*s-u-z^-1 *p...  \n",
       "15  00:00:03  c-aa-z^-2 *ph-@@-z^-3 *k-a-n^-0 *m-a-j^-1 *n-a...  \n",
       "16  00:00:49                                                NaN  "
      ]
     },
     "execution_count": 173,
     "metadata": {},
     "output_type": "execute_result"
    }
   ],
   "source": [
    "df"
   ]
  },
  {
   "cell_type": "markdown",
   "metadata": {},
   "source": [
    "- ใหม่ที่มี 2 columns โดย column แรกชื่อว่า ภาษาอีสาน และมีค่าใน column เป็นค่าจาก column ภาษาอีสานเดิมแต่เปลี่ยน คำที่เป็น '/' เป็น ',' และ column ที่สองชื่อว่าภาษาไทย และค่าใน column ภาษาไทยเดิมแต่เปลี่ยนค่าที่เป็น '/' เป็น ',' เช่น จาก สวัสดี/สุผู้สุคน/เด้อ/จ้า สวัสดี/ทุกๆ คน/นะ/คะ เป็น สวัสดี,สุผู้สุคน,เด้อ,จ้า สวัสดี,ทุกๆ คน,นะ,คะ"
   ]
  },
  {
   "cell_type": "code",
   "execution_count": 174,
   "metadata": {},
   "outputs": [],
   "source": [
    "df = df.dropna()"
   ]
  },
  {
   "cell_type": "code",
   "execution_count": 175,
   "metadata": {},
   "outputs": [],
   "source": [
    "def replacestr(col1):\n",
    "    co1 = col1.replace(\"/\", \",\")\n",
    "    return co1"
   ]
  },
  {
   "cell_type": "code",
   "execution_count": 176,
   "metadata": {},
   "outputs": [],
   "source": [
    "list_1 = []\n",
    "list_2 = []\n",
    "for i in range(len(df)):\n",
    "    list_1.append(replacestr(df.iloc[i,1]))\n",
    "    list_2.append(replacestr(df.iloc[i,2]))"
   ]
  },
  {
   "cell_type": "code",
   "execution_count": 177,
   "metadata": {},
   "outputs": [
    {
     "name": "stderr",
     "output_type": "stream",
     "text": [
      "C:\\Users\\CANDY\\Miniconda3\\lib\\site-packages\\ipykernel_launcher.py:1: SettingWithCopyWarning: \n",
      "A value is trying to be set on a copy of a slice from a DataFrame.\n",
      "Try using .loc[row_indexer,col_indexer] = value instead\n",
      "\n",
      "See the caveats in the documentation: http://pandas.pydata.org/pandas-docs/stable/user_guide/indexing.html#returning-a-view-versus-a-copy\n",
      "  \"\"\"Entry point for launching an IPython kernel.\n",
      "C:\\Users\\CANDY\\Miniconda3\\lib\\site-packages\\ipykernel_launcher.py:2: SettingWithCopyWarning: \n",
      "A value is trying to be set on a copy of a slice from a DataFrame.\n",
      "Try using .loc[row_indexer,col_indexer] = value instead\n",
      "\n",
      "See the caveats in the documentation: http://pandas.pydata.org/pandas-docs/stable/user_guide/indexing.html#returning-a-view-versus-a-copy\n",
      "  \n"
     ]
    }
   ],
   "source": [
    "df['ภาษาอีสาน'] = list_1\n",
    "df['ภาษาไทย'] = list_2"
   ]
  },
  {
   "cell_type": "code",
   "execution_count": 178,
   "metadata": {},
   "outputs": [
    {
     "data": {
      "text/html": [
       "<div>\n",
       "<style scoped>\n",
       "    .dataframe tbody tr th:only-of-type {\n",
       "        vertical-align: middle;\n",
       "    }\n",
       "\n",
       "    .dataframe tbody tr th {\n",
       "        vertical-align: top;\n",
       "    }\n",
       "\n",
       "    .dataframe thead th {\n",
       "        text-align: right;\n",
       "    }\n",
       "</style>\n",
       "<table border=\"1\" class=\"dataframe\">\n",
       "  <thead>\n",
       "    <tr style=\"text-align: right;\">\n",
       "      <th></th>\n",
       "      <th>No</th>\n",
       "      <th>ภาษาอีสาน</th>\n",
       "      <th>ภาษาไทย</th>\n",
       "      <th>เริ่ม</th>\n",
       "      <th>จบ</th>\n",
       "      <th>จบ-เริ่ม</th>\n",
       "      <th>G2P</th>\n",
       "    </tr>\n",
       "  </thead>\n",
       "  <tbody>\n",
       "    <tr>\n",
       "      <th>0</th>\n",
       "      <td>1.0</td>\n",
       "      <td>สวัสดี,สุผู้สุคน,เด้อ,จ้า</td>\n",
       "      <td>สวัสดี,ทุก ๆ คน,นะ,คะ</td>\n",
       "      <td>00:00:16</td>\n",
       "      <td>00:00:18</td>\n",
       "      <td>00:00:02</td>\n",
       "      <td>s-a-z^-1 w-a-t^-1 d-ii-z^-0 *s-u-z^-1 *ph-uu-z...</td>\n",
       "    </tr>\n",
       "    <tr>\n",
       "      <th>1</th>\n",
       "      <td>2.0</td>\n",
       "      <td>กิน,ข้าว,ก่อน,เด้อ,จ้า, ไผ,สิ,ถ่า,เค้า,ดาวน์</td>\n",
       "      <td>กิน,ข้าว,ก่อน,นะ,จ้ะ,ใคร,จะ,รอ,เค้า,ดาวน์</td>\n",
       "      <td>00:02:14</td>\n",
       "      <td>00:02:18</td>\n",
       "      <td>00:00:04</td>\n",
       "      <td>k-i-n^-0 *kh-aa-w^-2 *k-@@-n^-1 *d-qq-z^-2 *c-...</td>\n",
       "    </tr>\n",
       "    <tr>\n",
       "      <th>2</th>\n",
       "      <td>3.0</td>\n",
       "      <td>เค้า,ดาว,กะ,ขอ,ให้,เค้า,ดาว,อย่าง,มี,ความ,สุข,...</td>\n",
       "      <td>เค้า,ดาวน์,ก็,ขอ,ให้,เค้า,ดาน์,อย่าง,มี,ความ,ส...</td>\n",
       "      <td>00:02:21</td>\n",
       "      <td>00:02:25</td>\n",
       "      <td>00:00:04</td>\n",
       "      <td>kh-a-w^-3 *d-aa-w^-0 *k-a-z^-1 *kh-@@-z^-4 *h-...</td>\n",
       "    </tr>\n",
       "    <tr>\n",
       "      <th>3</th>\n",
       "      <td>4.0</td>\n",
       "      <td>นี่,จ้า,อา,หาร,เย็น,เป็น,ลา,ซาน,ย่า,กับ,ผัก,สด...</td>\n",
       "      <td>นี่,จ้า,อา,หาร,เย็น,เป็น,ลา,ซาน,ย่า,กับ,ผัก,สด...</td>\n",
       "      <td>00:02:33</td>\n",
       "      <td>00:02:37</td>\n",
       "      <td>00:00:04</td>\n",
       "      <td>n-ii-z^-2 *c-aa-z^-2 *z-aa-z^-0 *h-aa-n^-4 *j-...</td>\n",
       "    </tr>\n",
       "    <tr>\n",
       "      <th>4</th>\n",
       "      <td>5.0</td>\n",
       "      <td>ขอ,ให้,เชิญ,แซ่บ,เด้อ,พี่,น้อง</td>\n",
       "      <td>ขอ,ให้,เชิญ,อร่อย,นะ,ทุก,คน</td>\n",
       "      <td>00:02:38</td>\n",
       "      <td>00:02:41</td>\n",
       "      <td>00:00:03</td>\n",
       "      <td>kh-@@-z^-4 *h-a-j^-2 *ch-qq-n^-0 *s-xx-p^-2 *d...</td>\n",
       "    </tr>\n",
       "    <tr>\n",
       "      <th>5</th>\n",
       "      <td>6.0</td>\n",
       "      <td>แมท,ธิว,บอก,ว่า,อี,แม่,อย่า,พึ่ง,หลับ,เด้อ</td>\n",
       "      <td>แมท,ธิว,บอก,ว่า,คุณ,แม่,อย่า,พึ่ง,หลับ,นะ</td>\n",
       "      <td>00:03:08</td>\n",
       "      <td>00:03:08</td>\n",
       "      <td>00:00:00</td>\n",
       "      <td>m-xx-t^-1 *th-i-w^-0 *b-@@-k^-1 *w-aa-z^-2 *z-...</td>\n",
       "    </tr>\n",
       "    <tr>\n",
       "      <th>6</th>\n",
       "      <td>7.0</td>\n",
       "      <td>เงียบ,แฮงจัด</td>\n",
       "      <td>เงียบ,มาก ๆ</td>\n",
       "      <td>00:09:51</td>\n",
       "      <td>00:09:53</td>\n",
       "      <td>00:00:02</td>\n",
       "      <td>ng-iia-p^-2 *h-xx-ng^-0 *c-a-t^-1</td>\n",
       "    </tr>\n",
       "    <tr>\n",
       "      <th>7</th>\n",
       "      <td>8.0</td>\n",
       "      <td>บ่,มี,ความ,รื่น,เริง,อี,หยัง,เลย,ข้าง,นอก</td>\n",
       "      <td>ไม่,มี,ความ,รื่น,เริง,อะ,ไร,เลย,ด้าน,นอก</td>\n",
       "      <td>00:10:07</td>\n",
       "      <td>00:10:11</td>\n",
       "      <td>00:00:04</td>\n",
       "      <td>b-@@-z^-1 *m-ii-z^-0 *khw-aa-m^-0 *r-vv-n^-2 *...</td>\n",
       "    </tr>\n",
       "    <tr>\n",
       "      <th>8</th>\n",
       "      <td>9.0</td>\n",
       "      <td>มื้อ,นี้,สิ,เบิ่ง,พุ,ตอน,หก,ทุ่ม,จ่ะ</td>\n",
       "      <td>วัน,นี้,จะ,ดู,พุ,ตอน,หก,ทุ่ม,นะ,คะ</td>\n",
       "      <td>00:10:29</td>\n",
       "      <td>00:10:33</td>\n",
       "      <td>00:00:04</td>\n",
       "      <td>m-vv-z^-3 *n-ii-z^-3 *s-i-z^-1 *b-q-ng^-1 *ph-...</td>\n",
       "    </tr>\n",
       "    <tr>\n",
       "      <th>9</th>\n",
       "      <td>10.0</td>\n",
       "      <td>ถ้า,ฝน,ตก,หิ,มะ,ตก,คึ,สิ,บ่,ได้,ออก,ไป</td>\n",
       "      <td>ถ้า,ฝน,ตก,หิ,มะ,ตก,คง,จะ,ไม่,ได้,ออก,ไป</td>\n",
       "      <td>00:10:40</td>\n",
       "      <td>00:10:43</td>\n",
       "      <td>00:00:03</td>\n",
       "      <td>th-aa-z^-2 *f-o-n^-4 *t-o-k^-1 *h-i-z^-1 *m-a-...</td>\n",
       "    </tr>\n",
       "    <tr>\n",
       "      <th>10</th>\n",
       "      <td>11.0</td>\n",
       "      <td>ปี,ที่,แล้ว,ออก,ไป,เบิ่ง,เขา,จุด,พุ,มัน,เป็น,ฝ...</td>\n",
       "      <td>ปี,ที่,แล้ว,ออก,ไป,ดู,เขา,จุด,พุ,มัน,เป็น,ฝน,ห...</td>\n",
       "      <td>00:10:52</td>\n",
       "      <td>00:10:56</td>\n",
       "      <td>00:00:04</td>\n",
       "      <td>p-ii-z^-0 *th-ii-z^-2 *l-xx-w^-3 *z-@@-k^-1 *p...</td>\n",
       "    </tr>\n",
       "    <tr>\n",
       "      <th>11</th>\n",
       "      <td>12.0</td>\n",
       "      <td>เพิ่น,ก้ม,แบบ,คน,เมา,นะ,จ้ะ</td>\n",
       "      <td>เขา,ก้ม,แบบ,คน,เมา,อ่ะ,ค่ะ</td>\n",
       "      <td>00:11:09</td>\n",
       "      <td>00:11:12</td>\n",
       "      <td>00:00:03</td>\n",
       "      <td>ph-qq-n^-2 *k-o-m^-3 *b-xx-p^-1 *kh-o-n^-0 *m-...</td>\n",
       "    </tr>\n",
       "    <tr>\n",
       "      <th>12</th>\n",
       "      <td>13.0</td>\n",
       "      <td>ก้ม,ก้ม,ส่อง,พุ,เพิ่น,จุด,ละ,เพิ่น,กะ,ก้ม,ส่อง...</td>\n",
       "      <td>ก้ม,ก้ม,ส่อง,พุ,เขา,จุด,ละ,เขา,ก็,ก้ม,ส่อง,เขา...</td>\n",
       "      <td>00:11:14</td>\n",
       "      <td>00:11:18</td>\n",
       "      <td>00:00:04</td>\n",
       "      <td>k-o-m^-3 *k-o-m^-3 *s-@-ng^-1 *ph-u-z^-3 *ph-q...</td>\n",
       "    </tr>\n",
       "    <tr>\n",
       "      <th>13</th>\n",
       "      <td>14.0</td>\n",
       "      <td>เพิ่น,สิ,โซ,กล้าม,เพิ่น,หั่น,นะ,พี่น้อง</td>\n",
       "      <td>เขา,จะ,โชว์,กล้าม,เขา,นั่น,แหละ,ทุกคน</td>\n",
       "      <td>00:13:11</td>\n",
       "      <td>00:13:13</td>\n",
       "      <td>00:00:02</td>\n",
       "      <td>ph-qq-n^-2 *s-i-z^-1 *s-oo-z^-0 *kl-aa-m^-2 *p...</td>\n",
       "    </tr>\n",
       "    <tr>\n",
       "      <th>14</th>\n",
       "      <td>15.0</td>\n",
       "      <td>โอ,เค,จ้า,สุผู้สุคน,มื้อ,นี้,จั่ง,ใด๋,กะ,ขอบ,ค...</td>\n",
       "      <td>โอ,เค,จ้า,ทุก ๆ  คน,วัน,นี้,ยัง,ไง,ก็,ขอบ,คุณ,...</td>\n",
       "      <td>00:15:23</td>\n",
       "      <td>00:15:26</td>\n",
       "      <td>00:00:03</td>\n",
       "      <td>z-oo-z^-0 *kh-ee-z^-0 *c-aa-z^-2\\n*s-u-z^-1 *p...</td>\n",
       "    </tr>\n",
       "    <tr>\n",
       "      <th>15</th>\n",
       "      <td>16.0</td>\n",
       "      <td>จ้า,พ้อ,กัน,ใหม่,ใน,คลิป,วิ,ดี,โอ,หน้า,สวัสดี,...</td>\n",
       "      <td>จ้า,เจอ,กัน,ใหม่,ใน,คลิป,วิ,ดี,โอ,หน้า,สวัสดี,...</td>\n",
       "      <td>00:15:30</td>\n",
       "      <td>00:15:33</td>\n",
       "      <td>00:00:03</td>\n",
       "      <td>c-aa-z^-2 *ph-@@-z^-3 *k-a-n^-0 *m-a-j^-1 *n-a...</td>\n",
       "    </tr>\n",
       "  </tbody>\n",
       "</table>\n",
       "</div>"
      ],
      "text/plain": [
       "      No                                          ภาษาอีสาน  \\\n",
       "0    1.0                          สวัสดี,สุผู้สุคน,เด้อ,จ้า   \n",
       "1    2.0       กิน,ข้าว,ก่อน,เด้อ,จ้า, ไผ,สิ,ถ่า,เค้า,ดาวน์   \n",
       "2    3.0  เค้า,ดาว,กะ,ขอ,ให้,เค้า,ดาว,อย่าง,มี,ความ,สุข,...   \n",
       "3    4.0  นี่,จ้า,อา,หาร,เย็น,เป็น,ลา,ซาน,ย่า,กับ,ผัก,สด...   \n",
       "4    5.0                     ขอ,ให้,เชิญ,แซ่บ,เด้อ,พี่,น้อง   \n",
       "5    6.0         แมท,ธิว,บอก,ว่า,อี,แม่,อย่า,พึ่ง,หลับ,เด้อ   \n",
       "6    7.0                                       เงียบ,แฮงจัด   \n",
       "7    8.0          บ่,มี,ความ,รื่น,เริง,อี,หยัง,เลย,ข้าง,นอก   \n",
       "8    9.0               มื้อ,นี้,สิ,เบิ่ง,พุ,ตอน,หก,ทุ่ม,จ่ะ   \n",
       "9   10.0             ถ้า,ฝน,ตก,หิ,มะ,ตก,คึ,สิ,บ่,ได้,ออก,ไป   \n",
       "10  11.0  ปี,ที่,แล้ว,ออก,ไป,เบิ่ง,เขา,จุด,พุ,มัน,เป็น,ฝ...   \n",
       "11  12.0                        เพิ่น,ก้ม,แบบ,คน,เมา,นะ,จ้ะ   \n",
       "12  13.0  ก้ม,ก้ม,ส่อง,พุ,เพิ่น,จุด,ละ,เพิ่น,กะ,ก้ม,ส่อง...   \n",
       "13  14.0            เพิ่น,สิ,โซ,กล้าม,เพิ่น,หั่น,นะ,พี่น้อง   \n",
       "14  15.0  โอ,เค,จ้า,สุผู้สุคน,มื้อ,นี้,จั่ง,ใด๋,กะ,ขอบ,ค...   \n",
       "15  16.0  จ้า,พ้อ,กัน,ใหม่,ใน,คลิป,วิ,ดี,โอ,หน้า,สวัสดี,...   \n",
       "\n",
       "                                              ภาษาไทย     เริ่ม        จบ  \\\n",
       "0                               สวัสดี,ทุก ๆ คน,นะ,คะ  00:00:16  00:00:18   \n",
       "1           กิน,ข้าว,ก่อน,นะ,จ้ะ,ใคร,จะ,รอ,เค้า,ดาวน์  00:02:14  00:02:18   \n",
       "2   เค้า,ดาวน์,ก็,ขอ,ให้,เค้า,ดาน์,อย่าง,มี,ความ,ส...  00:02:21  00:02:25   \n",
       "3   นี่,จ้า,อา,หาร,เย็น,เป็น,ลา,ซาน,ย่า,กับ,ผัก,สด...  00:02:33  00:02:37   \n",
       "4                         ขอ,ให้,เชิญ,อร่อย,นะ,ทุก,คน  00:02:38  00:02:41   \n",
       "5           แมท,ธิว,บอก,ว่า,คุณ,แม่,อย่า,พึ่ง,หลับ,นะ  00:03:08  00:03:08   \n",
       "6                                         เงียบ,มาก ๆ  00:09:51  00:09:53   \n",
       "7            ไม่,มี,ความ,รื่น,เริง,อะ,ไร,เลย,ด้าน,นอก  00:10:07  00:10:11   \n",
       "8                  วัน,นี้,จะ,ดู,พุ,ตอน,หก,ทุ่ม,นะ,คะ  00:10:29  00:10:33   \n",
       "9             ถ้า,ฝน,ตก,หิ,มะ,ตก,คง,จะ,ไม่,ได้,ออก,ไป  00:10:40  00:10:43   \n",
       "10  ปี,ที่,แล้ว,ออก,ไป,ดู,เขา,จุด,พุ,มัน,เป็น,ฝน,ห...  00:10:52  00:10:56   \n",
       "11                         เขา,ก้ม,แบบ,คน,เมา,อ่ะ,ค่ะ  00:11:09  00:11:12   \n",
       "12  ก้ม,ก้ม,ส่อง,พุ,เขา,จุด,ละ,เขา,ก็,ก้ม,ส่อง,เขา...  00:11:14  00:11:18   \n",
       "13              เขา,จะ,โชว์,กล้าม,เขา,นั่น,แหละ,ทุกคน  00:13:11  00:13:13   \n",
       "14  โอ,เค,จ้า,ทุก ๆ  คน,วัน,นี้,ยัง,ไง,ก็,ขอบ,คุณ,...  00:15:23  00:15:26   \n",
       "15  จ้า,เจอ,กัน,ใหม่,ใน,คลิป,วิ,ดี,โอ,หน้า,สวัสดี,...  00:15:30  00:15:33   \n",
       "\n",
       "    จบ-เริ่ม                                                G2P  \n",
       "0   00:00:02  s-a-z^-1 w-a-t^-1 d-ii-z^-0 *s-u-z^-1 *ph-uu-z...  \n",
       "1   00:00:04  k-i-n^-0 *kh-aa-w^-2 *k-@@-n^-1 *d-qq-z^-2 *c-...  \n",
       "2   00:00:04  kh-a-w^-3 *d-aa-w^-0 *k-a-z^-1 *kh-@@-z^-4 *h-...  \n",
       "3   00:00:04  n-ii-z^-2 *c-aa-z^-2 *z-aa-z^-0 *h-aa-n^-4 *j-...  \n",
       "4   00:00:03  kh-@@-z^-4 *h-a-j^-2 *ch-qq-n^-0 *s-xx-p^-2 *d...  \n",
       "5   00:00:00  m-xx-t^-1 *th-i-w^-0 *b-@@-k^-1 *w-aa-z^-2 *z-...  \n",
       "6   00:00:02                  ng-iia-p^-2 *h-xx-ng^-0 *c-a-t^-1  \n",
       "7   00:00:04  b-@@-z^-1 *m-ii-z^-0 *khw-aa-m^-0 *r-vv-n^-2 *...  \n",
       "8   00:00:04  m-vv-z^-3 *n-ii-z^-3 *s-i-z^-1 *b-q-ng^-1 *ph-...  \n",
       "9   00:00:03  th-aa-z^-2 *f-o-n^-4 *t-o-k^-1 *h-i-z^-1 *m-a-...  \n",
       "10  00:00:04  p-ii-z^-0 *th-ii-z^-2 *l-xx-w^-3 *z-@@-k^-1 *p...  \n",
       "11  00:00:03  ph-qq-n^-2 *k-o-m^-3 *b-xx-p^-1 *kh-o-n^-0 *m-...  \n",
       "12  00:00:04  k-o-m^-3 *k-o-m^-3 *s-@-ng^-1 *ph-u-z^-3 *ph-q...  \n",
       "13  00:00:02  ph-qq-n^-2 *s-i-z^-1 *s-oo-z^-0 *kl-aa-m^-2 *p...  \n",
       "14  00:00:03  z-oo-z^-0 *kh-ee-z^-0 *c-aa-z^-2\\n*s-u-z^-1 *p...  \n",
       "15  00:00:03  c-aa-z^-2 *ph-@@-z^-3 *k-a-n^-0 *m-a-j^-1 *n-a...  "
      ]
     },
     "execution_count": 178,
     "metadata": {},
     "output_type": "execute_result"
    }
   ],
   "source": [
    "df"
   ]
  },
  {
   "cell_type": "code",
   "execution_count": 179,
   "metadata": {},
   "outputs": [],
   "source": [
    "new_table = df[['ภาษาอีสาน','ภาษาไทย']]"
   ]
  },
  {
   "cell_type": "code",
   "execution_count": 180,
   "metadata": {
    "scrolled": true
   },
   "outputs": [
    {
     "data": {
      "text/html": [
       "<div>\n",
       "<style scoped>\n",
       "    .dataframe tbody tr th:only-of-type {\n",
       "        vertical-align: middle;\n",
       "    }\n",
       "\n",
       "    .dataframe tbody tr th {\n",
       "        vertical-align: top;\n",
       "    }\n",
       "\n",
       "    .dataframe thead th {\n",
       "        text-align: right;\n",
       "    }\n",
       "</style>\n",
       "<table border=\"1\" class=\"dataframe\">\n",
       "  <thead>\n",
       "    <tr style=\"text-align: right;\">\n",
       "      <th></th>\n",
       "      <th>ภาษาอีสาน</th>\n",
       "      <th>ภาษาไทย</th>\n",
       "    </tr>\n",
       "  </thead>\n",
       "  <tbody>\n",
       "    <tr>\n",
       "      <th>0</th>\n",
       "      <td>สวัสดี,สุผู้สุคน,เด้อ,จ้า</td>\n",
       "      <td>สวัสดี,ทุก ๆ คน,นะ,คะ</td>\n",
       "    </tr>\n",
       "    <tr>\n",
       "      <th>1</th>\n",
       "      <td>กิน,ข้าว,ก่อน,เด้อ,จ้า, ไผ,สิ,ถ่า,เค้า,ดาวน์</td>\n",
       "      <td>กิน,ข้าว,ก่อน,นะ,จ้ะ,ใคร,จะ,รอ,เค้า,ดาวน์</td>\n",
       "    </tr>\n",
       "    <tr>\n",
       "      <th>2</th>\n",
       "      <td>เค้า,ดาว,กะ,ขอ,ให้,เค้า,ดาว,อย่าง,มี,ความ,สุข,...</td>\n",
       "      <td>เค้า,ดาวน์,ก็,ขอ,ให้,เค้า,ดาน์,อย่าง,มี,ความ,ส...</td>\n",
       "    </tr>\n",
       "    <tr>\n",
       "      <th>3</th>\n",
       "      <td>นี่,จ้า,อา,หาร,เย็น,เป็น,ลา,ซาน,ย่า,กับ,ผัก,สด...</td>\n",
       "      <td>นี่,จ้า,อา,หาร,เย็น,เป็น,ลา,ซาน,ย่า,กับ,ผัก,สด...</td>\n",
       "    </tr>\n",
       "    <tr>\n",
       "      <th>4</th>\n",
       "      <td>ขอ,ให้,เชิญ,แซ่บ,เด้อ,พี่,น้อง</td>\n",
       "      <td>ขอ,ให้,เชิญ,อร่อย,นะ,ทุก,คน</td>\n",
       "    </tr>\n",
       "    <tr>\n",
       "      <th>5</th>\n",
       "      <td>แมท,ธิว,บอก,ว่า,อี,แม่,อย่า,พึ่ง,หลับ,เด้อ</td>\n",
       "      <td>แมท,ธิว,บอก,ว่า,คุณ,แม่,อย่า,พึ่ง,หลับ,นะ</td>\n",
       "    </tr>\n",
       "    <tr>\n",
       "      <th>6</th>\n",
       "      <td>เงียบ,แฮงจัด</td>\n",
       "      <td>เงียบ,มาก ๆ</td>\n",
       "    </tr>\n",
       "    <tr>\n",
       "      <th>7</th>\n",
       "      <td>บ่,มี,ความ,รื่น,เริง,อี,หยัง,เลย,ข้าง,นอก</td>\n",
       "      <td>ไม่,มี,ความ,รื่น,เริง,อะ,ไร,เลย,ด้าน,นอก</td>\n",
       "    </tr>\n",
       "    <tr>\n",
       "      <th>8</th>\n",
       "      <td>มื้อ,นี้,สิ,เบิ่ง,พุ,ตอน,หก,ทุ่ม,จ่ะ</td>\n",
       "      <td>วัน,นี้,จะ,ดู,พุ,ตอน,หก,ทุ่ม,นะ,คะ</td>\n",
       "    </tr>\n",
       "    <tr>\n",
       "      <th>9</th>\n",
       "      <td>ถ้า,ฝน,ตก,หิ,มะ,ตก,คึ,สิ,บ่,ได้,ออก,ไป</td>\n",
       "      <td>ถ้า,ฝน,ตก,หิ,มะ,ตก,คง,จะ,ไม่,ได้,ออก,ไป</td>\n",
       "    </tr>\n",
       "    <tr>\n",
       "      <th>10</th>\n",
       "      <td>ปี,ที่,แล้ว,ออก,ไป,เบิ่ง,เขา,จุด,พุ,มัน,เป็น,ฝ...</td>\n",
       "      <td>ปี,ที่,แล้ว,ออก,ไป,ดู,เขา,จุด,พุ,มัน,เป็น,ฝน,ห...</td>\n",
       "    </tr>\n",
       "    <tr>\n",
       "      <th>11</th>\n",
       "      <td>เพิ่น,ก้ม,แบบ,คน,เมา,นะ,จ้ะ</td>\n",
       "      <td>เขา,ก้ม,แบบ,คน,เมา,อ่ะ,ค่ะ</td>\n",
       "    </tr>\n",
       "    <tr>\n",
       "      <th>12</th>\n",
       "      <td>ก้ม,ก้ม,ส่อง,พุ,เพิ่น,จุด,ละ,เพิ่น,กะ,ก้ม,ส่อง...</td>\n",
       "      <td>ก้ม,ก้ม,ส่อง,พุ,เขา,จุด,ละ,เขา,ก็,ก้ม,ส่อง,เขา...</td>\n",
       "    </tr>\n",
       "    <tr>\n",
       "      <th>13</th>\n",
       "      <td>เพิ่น,สิ,โซ,กล้าม,เพิ่น,หั่น,นะ,พี่น้อง</td>\n",
       "      <td>เขา,จะ,โชว์,กล้าม,เขา,นั่น,แหละ,ทุกคน</td>\n",
       "    </tr>\n",
       "    <tr>\n",
       "      <th>14</th>\n",
       "      <td>โอ,เค,จ้า,สุผู้สุคน,มื้อ,นี้,จั่ง,ใด๋,กะ,ขอบ,ค...</td>\n",
       "      <td>โอ,เค,จ้า,ทุก ๆ  คน,วัน,นี้,ยัง,ไง,ก็,ขอบ,คุณ,...</td>\n",
       "    </tr>\n",
       "    <tr>\n",
       "      <th>15</th>\n",
       "      <td>จ้า,พ้อ,กัน,ใหม่,ใน,คลิป,วิ,ดี,โอ,หน้า,สวัสดี,...</td>\n",
       "      <td>จ้า,เจอ,กัน,ใหม่,ใน,คลิป,วิ,ดี,โอ,หน้า,สวัสดี,...</td>\n",
       "    </tr>\n",
       "  </tbody>\n",
       "</table>\n",
       "</div>"
      ],
      "text/plain": [
       "                                            ภาษาอีสาน  \\\n",
       "0                           สวัสดี,สุผู้สุคน,เด้อ,จ้า   \n",
       "1        กิน,ข้าว,ก่อน,เด้อ,จ้า, ไผ,สิ,ถ่า,เค้า,ดาวน์   \n",
       "2   เค้า,ดาว,กะ,ขอ,ให้,เค้า,ดาว,อย่าง,มี,ความ,สุข,...   \n",
       "3   นี่,จ้า,อา,หาร,เย็น,เป็น,ลา,ซาน,ย่า,กับ,ผัก,สด...   \n",
       "4                      ขอ,ให้,เชิญ,แซ่บ,เด้อ,พี่,น้อง   \n",
       "5          แมท,ธิว,บอก,ว่า,อี,แม่,อย่า,พึ่ง,หลับ,เด้อ   \n",
       "6                                        เงียบ,แฮงจัด   \n",
       "7           บ่,มี,ความ,รื่น,เริง,อี,หยัง,เลย,ข้าง,นอก   \n",
       "8                มื้อ,นี้,สิ,เบิ่ง,พุ,ตอน,หก,ทุ่ม,จ่ะ   \n",
       "9              ถ้า,ฝน,ตก,หิ,มะ,ตก,คึ,สิ,บ่,ได้,ออก,ไป   \n",
       "10  ปี,ที่,แล้ว,ออก,ไป,เบิ่ง,เขา,จุด,พุ,มัน,เป็น,ฝ...   \n",
       "11                        เพิ่น,ก้ม,แบบ,คน,เมา,นะ,จ้ะ   \n",
       "12  ก้ม,ก้ม,ส่อง,พุ,เพิ่น,จุด,ละ,เพิ่น,กะ,ก้ม,ส่อง...   \n",
       "13            เพิ่น,สิ,โซ,กล้าม,เพิ่น,หั่น,นะ,พี่น้อง   \n",
       "14  โอ,เค,จ้า,สุผู้สุคน,มื้อ,นี้,จั่ง,ใด๋,กะ,ขอบ,ค...   \n",
       "15  จ้า,พ้อ,กัน,ใหม่,ใน,คลิป,วิ,ดี,โอ,หน้า,สวัสดี,...   \n",
       "\n",
       "                                              ภาษาไทย  \n",
       "0                               สวัสดี,ทุก ๆ คน,นะ,คะ  \n",
       "1           กิน,ข้าว,ก่อน,นะ,จ้ะ,ใคร,จะ,รอ,เค้า,ดาวน์  \n",
       "2   เค้า,ดาวน์,ก็,ขอ,ให้,เค้า,ดาน์,อย่าง,มี,ความ,ส...  \n",
       "3   นี่,จ้า,อา,หาร,เย็น,เป็น,ลา,ซาน,ย่า,กับ,ผัก,สด...  \n",
       "4                         ขอ,ให้,เชิญ,อร่อย,นะ,ทุก,คน  \n",
       "5           แมท,ธิว,บอก,ว่า,คุณ,แม่,อย่า,พึ่ง,หลับ,นะ  \n",
       "6                                         เงียบ,มาก ๆ  \n",
       "7            ไม่,มี,ความ,รื่น,เริง,อะ,ไร,เลย,ด้าน,นอก  \n",
       "8                  วัน,นี้,จะ,ดู,พุ,ตอน,หก,ทุ่ม,นะ,คะ  \n",
       "9             ถ้า,ฝน,ตก,หิ,มะ,ตก,คง,จะ,ไม่,ได้,ออก,ไป  \n",
       "10  ปี,ที่,แล้ว,ออก,ไป,ดู,เขา,จุด,พุ,มัน,เป็น,ฝน,ห...  \n",
       "11                         เขา,ก้ม,แบบ,คน,เมา,อ่ะ,ค่ะ  \n",
       "12  ก้ม,ก้ม,ส่อง,พุ,เขา,จุด,ละ,เขา,ก็,ก้ม,ส่อง,เขา...  \n",
       "13              เขา,จะ,โชว์,กล้าม,เขา,นั่น,แหละ,ทุกคน  \n",
       "14  โอ,เค,จ้า,ทุก ๆ  คน,วัน,นี้,ยัง,ไง,ก็,ขอบ,คุณ,...  \n",
       "15  จ้า,เจอ,กัน,ใหม่,ใน,คลิป,วิ,ดี,โอ,หน้า,สวัสดี,...  "
      ]
     },
     "execution_count": 180,
     "metadata": {},
     "output_type": "execute_result"
    }
   ],
   "source": [
    "new_table"
   ]
  },
  {
   "cell_type": "markdown",
   "metadata": {},
   "source": [
    "- สร้างตาราง Dictionary โดยตารางประกอบด้วยสอง columns คือ ภาษาอีสาน และภาษาไทย โดยค่าใน column ภาษาอีสาน คือคำในภาษาอีสานและ column ภาษาไทย คือคำแปลเป็นภาษากลางของภาษาอีสานใน column แรก (ใช้คำจากตาราง data.xlsx โดยคำที่อยู่ในลำดับเดียวกันของ columns ภาษาอีสาน และภาษาไทย คือคำแปลของกันและกัน ถ้าจำนวนคำของทั้งสอง column เท่ากัน ถ้าจำนวนคำระหว่างสอง column ไม่เท่ากันให้ข้าม record นั้นไป)"
   ]
  },
  {
   "cell_type": "code",
   "execution_count": 128,
   "metadata": {},
   "outputs": [],
   "source": [
    "def splitstr(col1):\n",
    "    co1 = col1.split('/')\n",
    "    return co1"
   ]
  },
  {
   "cell_type": "code",
   "execution_count": 129,
   "metadata": {},
   "outputs": [
    {
     "data": {
      "text/plain": [
       "['สวัสดี', 'สุผู้สุคน', 'เด้อ', 'จ้า']"
      ]
     },
     "execution_count": 129,
     "metadata": {},
     "output_type": "execute_result"
    }
   ],
   "source": [
    "splitstr(df.iloc[0,1])"
   ]
  },
  {
   "cell_type": "code",
   "execution_count": 130,
   "metadata": {},
   "outputs": [],
   "source": [
    "list_11 = []\n",
    "list_22 = []\n",
    "for i in range(0,7):\n",
    "    list_11 += splitstr(df.iloc[i,1])\n",
    "    list_22 += splitstr(df.iloc[i,2])"
   ]
  },
  {
   "cell_type": "code",
   "execution_count": 131,
   "metadata": {},
   "outputs": [
    {
     "data": {
      "text/plain": [
       "['สวัสดี',\n",
       " 'สุผู้สุคน',\n",
       " 'เด้อ',\n",
       " 'จ้า',\n",
       " 'กิน',\n",
       " 'ข้าว',\n",
       " 'ก่อน',\n",
       " 'เด้อ',\n",
       " 'จ้า',\n",
       " ' ไผ',\n",
       " 'สิ',\n",
       " 'ถ่า',\n",
       " 'เค้า',\n",
       " 'ดาวน์',\n",
       " 'เค้า',\n",
       " 'ดาว',\n",
       " 'กะ',\n",
       " 'ขอ',\n",
       " 'ให้',\n",
       " 'เค้า',\n",
       " 'ดาว',\n",
       " 'อย่าง',\n",
       " 'มี',\n",
       " 'ความ',\n",
       " 'สุข',\n",
       " 'นะ',\n",
       " 'จ้ะ',\n",
       " 'นี่',\n",
       " 'จ้า',\n",
       " 'อา',\n",
       " 'หาร',\n",
       " 'เย็น',\n",
       " 'เป็น',\n",
       " 'ลา',\n",
       " 'ซาน',\n",
       " 'ย่า',\n",
       " 'กับ',\n",
       " 'ผัก',\n",
       " 'สด',\n",
       " 'เด้อ',\n",
       " 'จ้า',\n",
       " 'ขอ',\n",
       " 'ให้',\n",
       " 'เชิญ',\n",
       " 'แซ่บ',\n",
       " 'เด้อ',\n",
       " 'พี่',\n",
       " 'น้อง',\n",
       " 'แมท',\n",
       " 'ธิว',\n",
       " 'บอก',\n",
       " 'ว่า',\n",
       " 'อี',\n",
       " 'แม่',\n",
       " 'อย่า',\n",
       " 'พึ่ง',\n",
       " 'หลับ',\n",
       " 'เด้อ',\n",
       " 'เงียบ',\n",
       " 'แฮงจัด']"
      ]
     },
     "execution_count": 131,
     "metadata": {},
     "output_type": "execute_result"
    }
   ],
   "source": [
    "list_11"
   ]
  },
  {
   "cell_type": "code",
   "execution_count": 132,
   "metadata": {},
   "outputs": [],
   "source": [
    "def translate(col1,col2):\n",
    "    str = f'{col1} แปลว่า {col2}'\n",
    "    return str"
   ]
  },
  {
   "cell_type": "code",
   "execution_count": 133,
   "metadata": {},
   "outputs": [],
   "source": [
    "dicttrans = []\n",
    "for i in range(len(list_11)):\n",
    "    dicttrans += [translate(list_11[i],list_22[i])]"
   ]
  },
  {
   "cell_type": "code",
   "execution_count": 134,
   "metadata": {},
   "outputs": [],
   "source": [
    "Udicttrans = set(dicttrans)"
   ]
  },
  {
   "cell_type": "code",
   "execution_count": 135,
   "metadata": {},
   "outputs": [
    {
     "data": {
      "text/plain": [
       "{' ไผ แปลว่า ใคร',\n",
       " 'กะ แปลว่า ก็',\n",
       " 'กับ แปลว่า กับ',\n",
       " 'กิน แปลว่า กิน',\n",
       " 'ก่อน แปลว่า ก่อน',\n",
       " 'ขอ แปลว่า ขอ',\n",
       " 'ข้าว แปลว่า ข้าว',\n",
       " 'ความ แปลว่า ความ',\n",
       " 'จ้ะ แปลว่า จ้ะ',\n",
       " 'จ้า แปลว่า คะ',\n",
       " 'จ้า แปลว่า จ้ะ',\n",
       " 'จ้า แปลว่า จ้า',\n",
       " 'ซาน แปลว่า ซาน',\n",
       " 'ดาว แปลว่า ดาน์',\n",
       " 'ดาว แปลว่า ดาวน์',\n",
       " 'ดาวน์ แปลว่า ดาวน์',\n",
       " 'ถ่า แปลว่า รอ',\n",
       " 'ธิว แปลว่า ธิว',\n",
       " 'นะ แปลว่า นะ',\n",
       " 'นี่ แปลว่า นี่',\n",
       " 'น้อง แปลว่า คน',\n",
       " 'บอก แปลว่า บอก',\n",
       " 'ผัก แปลว่า ผัก',\n",
       " 'พี่ แปลว่า ทุก',\n",
       " 'พึ่ง แปลว่า พึ่ง',\n",
       " 'มี แปลว่า มี',\n",
       " 'ย่า แปลว่า ย่า',\n",
       " 'ลา แปลว่า ลา',\n",
       " 'ว่า แปลว่า ว่า',\n",
       " 'สด แปลว่า สด',\n",
       " 'สวัสดี แปลว่า สวัสดี',\n",
       " 'สิ แปลว่า จะ',\n",
       " 'สุข แปลว่า สุข',\n",
       " 'สุผู้สุคน แปลว่า ทุก ๆ คน',\n",
       " 'หลับ แปลว่า หลับ',\n",
       " 'หาร แปลว่า หาร',\n",
       " 'อย่า แปลว่า อย่า',\n",
       " 'อย่าง แปลว่า อย่าง',\n",
       " 'อา แปลว่า อา',\n",
       " 'อี แปลว่า คุณ',\n",
       " 'เค้า แปลว่า เค้า',\n",
       " 'เงียบ แปลว่า เงียบ',\n",
       " 'เชิญ แปลว่า เชิญ',\n",
       " 'เด้อ แปลว่า นะ',\n",
       " 'เป็น แปลว่า เป็น',\n",
       " 'เย็น แปลว่า เย็น',\n",
       " 'แซ่บ แปลว่า อร่อย',\n",
       " 'แมท แปลว่า แมท',\n",
       " 'แม่ แปลว่า แม่',\n",
       " 'แฮงจัด แปลว่า มาก ๆ',\n",
       " 'ให้ แปลว่า ให้'}"
      ]
     },
     "execution_count": 135,
     "metadata": {},
     "output_type": "execute_result"
    }
   ],
   "source": [
    "Udicttrans"
   ]
  },
  {
   "cell_type": "code",
   "execution_count": 320,
   "metadata": {},
   "outputs": [
    {
     "data": {
      "text/html": [
       "<div>\n",
       "<style scoped>\n",
       "    .dataframe tbody tr th:only-of-type {\n",
       "        vertical-align: middle;\n",
       "    }\n",
       "\n",
       "    .dataframe tbody tr th {\n",
       "        vertical-align: top;\n",
       "    }\n",
       "\n",
       "    .dataframe thead th {\n",
       "        text-align: right;\n",
       "    }\n",
       "</style>\n",
       "<table border=\"1\" class=\"dataframe\">\n",
       "  <thead>\n",
       "    <tr style=\"text-align: right;\">\n",
       "      <th></th>\n",
       "      <th>ภาษาอีสาน</th>\n",
       "      <th>ภาษาไทย</th>\n",
       "    </tr>\n",
       "  </thead>\n",
       "  <tbody>\n",
       "    <tr>\n",
       "      <th>0</th>\n",
       "      <td>ไผ</td>\n",
       "      <td>ใคร</td>\n",
       "    </tr>\n",
       "    <tr>\n",
       "      <th>1</th>\n",
       "      <td>กะ</td>\n",
       "      <td>ก็</td>\n",
       "    </tr>\n",
       "    <tr>\n",
       "      <th>2</th>\n",
       "      <td>กับ</td>\n",
       "      <td>กับ</td>\n",
       "    </tr>\n",
       "    <tr>\n",
       "      <th>3</th>\n",
       "      <td>กิน</td>\n",
       "      <td>กิน</td>\n",
       "    </tr>\n",
       "    <tr>\n",
       "      <th>4</th>\n",
       "      <td>ก่อน</td>\n",
       "      <td>ก่อน</td>\n",
       "    </tr>\n",
       "    <tr>\n",
       "      <th>5</th>\n",
       "      <td>ขอ</td>\n",
       "      <td>ขอ</td>\n",
       "    </tr>\n",
       "    <tr>\n",
       "      <th>6</th>\n",
       "      <td>ข้าว</td>\n",
       "      <td>ข้าว</td>\n",
       "    </tr>\n",
       "    <tr>\n",
       "      <th>7</th>\n",
       "      <td>ความ</td>\n",
       "      <td>ความ</td>\n",
       "    </tr>\n",
       "    <tr>\n",
       "      <th>8</th>\n",
       "      <td>จ้ะ</td>\n",
       "      <td>จ้ะ</td>\n",
       "    </tr>\n",
       "    <tr>\n",
       "      <th>9</th>\n",
       "      <td>จ้า</td>\n",
       "      <td>คะ</td>\n",
       "    </tr>\n",
       "    <tr>\n",
       "      <th>10</th>\n",
       "      <td>จ้า</td>\n",
       "      <td>จ้ะ</td>\n",
       "    </tr>\n",
       "    <tr>\n",
       "      <th>11</th>\n",
       "      <td>จ้า</td>\n",
       "      <td>จ้า</td>\n",
       "    </tr>\n",
       "    <tr>\n",
       "      <th>12</th>\n",
       "      <td>ซาน</td>\n",
       "      <td>ซาน</td>\n",
       "    </tr>\n",
       "    <tr>\n",
       "      <th>13</th>\n",
       "      <td>ดาว</td>\n",
       "      <td>ดาน์</td>\n",
       "    </tr>\n",
       "    <tr>\n",
       "      <th>14</th>\n",
       "      <td>ดาว</td>\n",
       "      <td>ดาวน์</td>\n",
       "    </tr>\n",
       "    <tr>\n",
       "      <th>15</th>\n",
       "      <td>ดาวน์</td>\n",
       "      <td>ดาวน์</td>\n",
       "    </tr>\n",
       "  </tbody>\n",
       "</table>\n",
       "</div>"
      ],
      "text/plain": [
       "   ภาษาอีสาน ภาษาไทย\n",
       "0         ไผ     ใคร\n",
       "1         กะ      ก็\n",
       "2        กับ     กับ\n",
       "3        กิน     กิน\n",
       "4       ก่อน    ก่อน\n",
       "5         ขอ      ขอ\n",
       "6       ข้าว    ข้าว\n",
       "7       ความ    ความ\n",
       "8        จ้ะ     จ้ะ\n",
       "9        จ้า      คะ\n",
       "10       จ้า     จ้ะ\n",
       "11       จ้า     จ้า\n",
       "12       ซาน     ซาน\n",
       "13       ดาว    ดาน์\n",
       "14       ดาว   ดาวน์\n",
       "15     ดาวน์   ดาวน์"
      ]
     },
     "execution_count": 320,
     "metadata": {},
     "output_type": "execute_result"
    }
   ],
   "source": [
    "table = [('ไผ','ใคร'),\n",
    " ('กะ','ก็'),\n",
    " ('กับ','กับ'),\n",
    " ('กิน','กิน'),\n",
    " ('ก่อน','ก่อน'),\n",
    " ('ขอ','ขอ'),\n",
    " ('ข้าว','ข้าว'),\n",
    " ('ความ','ความ'),\n",
    " ('จ้ะ','จ้ะ'),\n",
    " ('จ้า','คะ'),\n",
    " ('จ้า','จ้ะ'),\n",
    " ('จ้า','จ้า'),\n",
    " ('ซาน','ซาน'),\n",
    " ('ดาว','ดาน์'),\n",
    " ('ดาว','ดาวน์'),\n",
    " ('ดาวน์','ดาวน์')]\n",
    "labels = ['ภาษาอีสาน','ภาษาไทย']\n",
    "df_table = pd.DataFrame.from_records(table, columns=labels)\n",
    "df_table"
   ]
  },
  {
   "cell_type": "code",
   "execution_count": null,
   "metadata": {},
   "outputs": [],
   "source": []
  }
 ],
 "metadata": {
  "kernelspec": {
   "display_name": "Python 3",
   "language": "python",
   "name": "python3"
  },
  "language_info": {
   "codemirror_mode": {
    "name": "ipython",
    "version": 3
   },
   "file_extension": ".py",
   "mimetype": "text/x-python",
   "name": "python",
   "nbconvert_exporter": "python",
   "pygments_lexer": "ipython3",
   "version": "3.7.3"
  }
 },
 "nbformat": 4,
 "nbformat_minor": 2
}
