{
 "cells": [
  {
   "cell_type": "markdown",
   "metadata": {},
   "source": [
    "ข้อ 1\n",
    "สร้าง function ชื่อ createDict ซึ่งทำหน้าที่:\n",
    "- function รับ input เป็น list 2 ตัวที่มีขนาดเท่ากัน และ ค่า True/False\n",
    "- ถ้า True จะสร้าง dict ที่มี key เป็นค่าจาก list ตัวที่ 1 และ value จาก list ตัวที่ 2\n",
    "- ถ้า False จะสร้าง dict ที่มี key เป็นค่าจาก list ตัวที่ 2 และ value จาก list ตัวที่ 1\n",
    "- output ของ function คือ dict ที่สร้างขึ้น\n",
    "\n",
    "เช่น\n",
    "\n",
    "output1 = createDict( [ 'apple' , 'banana' ] , [ 1 , 2 ] , True )\n",
    "\n",
    "จะได้ output1 เป็น { 'apple' : 1 , 'banana' : 2 }\n",
    "\n",
    "output2 = createDict( [ 'apple' , 'banana' ] , [ 1 , 2 ] , False )\n",
    "\n",
    "จะได้ output2 เป็น { 1 : 'apple' , 2 : 'banana' }"
   ]
  },
  {
   "cell_type": "code",
   "execution_count": 1,
   "metadata": {},
   "outputs": [],
   "source": [
    "def createDict(listtext, listnumber, logicV):\n",
    "    if logicV:  #logicV == True\n",
    "        retdict = {}\n",
    "        for index in range(len(listtext)): \n",
    "            retdict[listtext[index]] = listnumber[index]\n",
    "    else:\n",
    "        retdict = {}\n",
    "        for index in range(len(listtext)): \n",
    "            retdict[listnumber[index]] = listtext[index]\n",
    "\n",
    "    return retdict      "
   ]
  },
  {
   "cell_type": "code",
   "execution_count": 2,
   "metadata": {},
   "outputs": [
    {
     "data": {
      "text/plain": [
       "{'apple': 1, 'banana': 2}"
      ]
     },
     "execution_count": 2,
     "metadata": {},
     "output_type": "execute_result"
    }
   ],
   "source": [
    "createDict( [ 'apple' , 'banana' ] , [ 1 , 2 ] , True )"
   ]
  },
  {
   "cell_type": "code",
   "execution_count": 3,
   "metadata": {},
   "outputs": [
    {
     "data": {
      "text/plain": [
       "{1: 'apple', 2: 'banana'}"
      ]
     },
     "execution_count": 3,
     "metadata": {},
     "output_type": "execute_result"
    }
   ],
   "source": [
    "createDict( [ 'apple' , 'banana' ] , [ 1 , 2 ] , False )"
   ]
  },
  {
   "cell_type": "markdown",
   "metadata": {},
   "source": [
    "ข้อ 2 Use \"Wuhan_nCoV_GNome.txt\" to answer these questions:\n",
    "\n",
    "    - how long is the sequence? กรดอะมิโนมีความยาวเท่าไหร่\n",
    "    - how many A, T, G, C in the sequence? ให้บอกว่าแต่ละกรดอะมิโนมีเท่าไหร่ เช่น A กี่ตัว\n",
    "    - what is the most frequent 5-char-long subsequence? ลำดับที่ซ้ำกันมากสุด 5 ตัว"
   ]
  },
  {
   "cell_type": "code",
   "execution_count": 4,
   "metadata": {},
   "outputs": [],
   "source": [
    "import pandas as pd"
   ]
  },
  {
   "cell_type": "code",
   "execution_count": 5,
   "metadata": {},
   "outputs": [
    {
     "data": {
      "text/html": [
       "<div>\n",
       "<style scoped>\n",
       "    .dataframe tbody tr th:only-of-type {\n",
       "        vertical-align: middle;\n",
       "    }\n",
       "\n",
       "    .dataframe tbody tr th {\n",
       "        vertical-align: top;\n",
       "    }\n",
       "\n",
       "    .dataframe thead th {\n",
       "        text-align: right;\n",
       "    }\n",
       "</style>\n",
       "<table border=\"1\" class=\"dataframe\">\n",
       "  <thead>\n",
       "    <tr style=\"text-align: right;\">\n",
       "      <th></th>\n",
       "      <th>0</th>\n",
       "    </tr>\n",
       "  </thead>\n",
       "  <tbody>\n",
       "    <tr>\n",
       "      <th>0</th>\n",
       "      <td>ATTAAAGGTTTATACCTTCCCAGGTAACAAACCAACCAACTTTCGA...</td>\n",
       "    </tr>\n",
       "    <tr>\n",
       "      <th>1</th>\n",
       "      <td>CGAACTTTAAAATCTGTGTGGCTGTCACTCGGCTGCATGCTTAGTG...</td>\n",
       "    </tr>\n",
       "    <tr>\n",
       "      <th>2</th>\n",
       "      <td>TAATTACTGTCGTTGACAGGACACGAGTAACTCGTCTATCTTCTGC...</td>\n",
       "    </tr>\n",
       "    <tr>\n",
       "      <th>3</th>\n",
       "      <td>TTGCAGCCGATCATCAGCACATCTAGGTTTCGTCCGGGTGTGACCG...</td>\n",
       "    </tr>\n",
       "    <tr>\n",
       "      <th>4</th>\n",
       "      <td>CCTGGTTTCAACGAGAAAACACACGTCCAACTCAGTTTGCCTGTTT...</td>\n",
       "    </tr>\n",
       "  </tbody>\n",
       "</table>\n",
       "</div>"
      ],
      "text/plain": [
       "                                                   0\n",
       "0  ATTAAAGGTTTATACCTTCCCAGGTAACAAACCAACCAACTTTCGA...\n",
       "1  CGAACTTTAAAATCTGTGTGGCTGTCACTCGGCTGCATGCTTAGTG...\n",
       "2  TAATTACTGTCGTTGACAGGACACGAGTAACTCGTCTATCTTCTGC...\n",
       "3  TTGCAGCCGATCATCAGCACATCTAGGTTTCGTCCGGGTGTGACCG...\n",
       "4  CCTGGTTTCAACGAGAAAACACACGTCCAACTCAGTTTGCCTGTTT..."
      ]
     },
     "execution_count": 5,
     "metadata": {},
     "output_type": "execute_result"
    }
   ],
   "source": [
    "DNAseq = pd.read_csv('C:\\\\Users\\\\CANDY\\\\Documents\\\\Wuhan_nCoV_GNome.txt', header = None)\n",
    "DNAseq.head()"
   ]
  },
  {
   "cell_type": "markdown",
   "metadata": {},
   "source": [
    "- how long is the sequence?"
   ]
  },
  {
   "cell_type": "code",
   "execution_count": 7,
   "metadata": {},
   "outputs": [
    {
     "data": {
      "text/plain": [
       "70"
      ]
     },
     "execution_count": 7,
     "metadata": {},
     "output_type": "execute_result"
    }
   ],
   "source": [
    "len('ATTAAAGGTTTATACCTTCCCAGGTAACAAACCAACCAACTTTCGATCTCTTGTAGATCTGTTCTCTAAA')"
   ]
  },
  {
   "cell_type": "code",
   "execution_count": 8,
   "metadata": {},
   "outputs": [
    {
     "data": {
      "text/plain": [
       "(428, 1)"
      ]
     },
     "execution_count": 8,
     "metadata": {},
     "output_type": "execute_result"
    }
   ],
   "source": [
    "DNAseq.shape"
   ]
  },
  {
   "cell_type": "code",
   "execution_count": 12,
   "metadata": {},
   "outputs": [
    {
     "data": {
      "text/plain": [
       "'CGAACTTTAAAATCTGTGTGGCTGTCACTCGGCTGCATGCTTAGTGCACTCACGCAGTATAATTAATAAC'"
      ]
     },
     "execution_count": 12,
     "metadata": {},
     "output_type": "execute_result"
    }
   ],
   "source": [
    "DNAseq.iloc[1][0]"
   ]
  },
  {
   "cell_type": "code",
   "execution_count": 14,
   "metadata": {},
   "outputs": [
    {
     "name": "stdout",
     "output_type": "stream",
     "text": [
      "sequence is 29903 characters long\n"
     ]
    }
   ],
   "source": [
    "DNAlong = 0\n",
    "for row in range(DNAseq.shape[0]): #วนลูปตามจำนวนที่เป็นตัวเลขของแถว\n",
    "    DNAlong = DNAlong + len(DNAseq.iloc[row][0])\n",
    "    \n",
    "print(f'sequence is {DNAlong} characters long')"
   ]
  },
  {
   "cell_type": "markdown",
   "metadata": {},
   "source": [
    "- how many A, T, G, C in the sequence?"
   ]
  },
  {
   "cell_type": "code",
   "execution_count": 15,
   "metadata": {},
   "outputs": [],
   "source": [
    "def countChar(seq,character):\n",
    "    charcount = 0\n",
    "    for char in seq:\n",
    "        if char == character:\n",
    "            charcount = charcount +1\n",
    "    return charcount"
   ]
  },
  {
   "cell_type": "code",
   "execution_count": 16,
   "metadata": {},
   "outputs": [
    {
     "data": {
      "text/plain": [
       "22"
      ]
     },
     "execution_count": 16,
     "metadata": {},
     "output_type": "execute_result"
    }
   ],
   "source": [
    "countChar('ATTAAAGGTTTATACCTTCCCAGGTAACAAACCAACCAACTTTCGATCTCTTGTAGATCTGTTCTCTAAA','A')"
   ]
  },
  {
   "cell_type": "code",
   "execution_count": 18,
   "metadata": {},
   "outputs": [
    {
     "name": "stdout",
     "output_type": "stream",
     "text": [
      "There are 8954 As, 9594 Ts, 5863 Gs, 5492 Cs\n"
     ]
    }
   ],
   "source": [
    "ANum = 0\n",
    "TNum = 0\n",
    "GNum = 0\n",
    "CNum = 0\n",
    "DNAlong = 0\n",
    "for row in range(DNAseq.shape[0]): \n",
    "    ANum += countChar(DNAseq.iloc[row][0],'A')\n",
    "    TNum += countChar(DNAseq.iloc[row][0],'T')\n",
    "    GNum += countChar(DNAseq.iloc[row][0],'G')\n",
    "    CNum += countChar(DNAseq.iloc[row][0],'C')\n",
    "    \n",
    "print(f'There are {ANum} As, {TNum} Ts, {GNum} Gs, {CNum} Cs')"
   ]
  },
  {
   "cell_type": "markdown",
   "metadata": {},
   "source": [
    "- what is the most frequent 5-char-long subsequence?"
   ]
  },
  {
   "cell_type": "code",
   "execution_count": 19,
   "metadata": {},
   "outputs": [
    {
     "data": {
      "text/plain": [
       "'ATTAAAGGTTT'"
      ]
     },
     "execution_count": 19,
     "metadata": {},
     "output_type": "execute_result"
    }
   ],
   "source": [
    "'ATTAAAGGTTT'"
   ]
  },
  {
   "cell_type": "code",
   "execution_count": 22,
   "metadata": {},
   "outputs": [],
   "source": [
    "def populate5charstring(seq):\n",
    "    str_list = list()\n",
    "    for i in range(len(seq)-4):\n",
    "        str_list.append(seq[i:i+5])\n",
    "    return str_list"
   ]
  },
  {
   "cell_type": "code",
   "execution_count": 23,
   "metadata": {},
   "outputs": [
    {
     "data": {
      "text/plain": [
       "['ATTAA', 'TTAAA', 'TAAAG', 'AAAGG', 'AAGGT', 'AGGTT', 'GGTTT']"
      ]
     },
     "execution_count": 23,
     "metadata": {},
     "output_type": "execute_result"
    }
   ],
   "source": [
    "populate5charstring('ATTAAAGGTTT')"
   ]
  },
  {
   "cell_type": "code",
   "execution_count": 24,
   "metadata": {},
   "outputs": [],
   "source": [
    "list_all_5char = list()\n",
    "for row in range(DNAseq.shape[0]):\n",
    "    list_all_5char = list_all_5char + populate5charstring(DNAseq.iloc[row][0])"
   ]
  },
  {
   "cell_type": "code",
   "execution_count": 25,
   "metadata": {},
   "outputs": [
    {
     "data": {
      "text/plain": [
       "28191"
      ]
     },
     "execution_count": 25,
     "metadata": {},
     "output_type": "execute_result"
    }
   ],
   "source": [
    "len(list_all_5char)"
   ]
  },
  {
   "cell_type": "code",
   "execution_count": 26,
   "metadata": {},
   "outputs": [],
   "source": [
    "unique_5char = list(set(list_all_5char))"
   ]
  },
  {
   "cell_type": "code",
   "execution_count": 28,
   "metadata": {},
   "outputs": [
    {
     "data": {
      "text/plain": [
       "1022"
      ]
     },
     "execution_count": 28,
     "metadata": {},
     "output_type": "execute_result"
    }
   ],
   "source": [
    "len(unique_5char)"
   ]
  },
  {
   "cell_type": "code",
   "execution_count": 29,
   "metadata": {},
   "outputs": [],
   "source": [
    "dict_5char = {}\n",
    "for sub_str in unique_5char:\n",
    "    num = 0\n",
    "    for s in list_all_5char:\n",
    "        if sub_str == s:\n",
    "            num += 1\n",
    "    dict_5char[sub_str] = num"
   ]
  },
  {
   "cell_type": "code",
   "execution_count": 31,
   "metadata": {},
   "outputs": [
    {
     "data": {
      "text/plain": [
       "84"
      ]
     },
     "execution_count": 31,
     "metadata": {},
     "output_type": "execute_result"
    }
   ],
   "source": [
    "dict_5char['TGGTG']"
   ]
  },
  {
   "cell_type": "code",
   "execution_count": 32,
   "metadata": {},
   "outputs": [],
   "source": [
    "maxVal = -100\n",
    "maxKey = None\n",
    "for k in dict_5char.keys():\n",
    "    if dict_5char[k] > maxVal:\n",
    "        maxVal = dict_5char[k]\n",
    "        maxKey = k"
   ]
  },
  {
   "cell_type": "code",
   "execution_count": 33,
   "metadata": {},
   "outputs": [
    {
     "data": {
      "text/plain": [
       "'TTGTT'"
      ]
     },
     "execution_count": 33,
     "metadata": {},
     "output_type": "execute_result"
    }
   ],
   "source": [
    "maxKey"
   ]
  },
  {
   "cell_type": "code",
   "execution_count": 34,
   "metadata": {},
   "outputs": [
    {
     "name": "stdout",
     "output_type": "stream",
     "text": [
      "max 5-long-sequence is TTGTT with frequency equals 99\n"
     ]
    }
   ],
   "source": [
    "print(f'max 5-long-sequence is {maxKey} with frequency equals {maxVal}')"
   ]
  },
  {
   "cell_type": "markdown",
   "metadata": {},
   "source": [
    "ข้อ 3 "
   ]
  },
  {
   "cell_type": "code",
   "execution_count": null,
   "metadata": {},
   "outputs": [],
   "source": []
  }
 ],
 "metadata": {
  "kernelspec": {
   "display_name": "Python 3",
   "language": "python",
   "name": "python3"
  },
  "language_info": {
   "codemirror_mode": {
    "name": "ipython",
    "version": 3
   },
   "file_extension": ".py",
   "mimetype": "text/x-python",
   "name": "python",
   "nbconvert_exporter": "python",
   "pygments_lexer": "ipython3",
   "version": "3.7.3"
  }
 },
 "nbformat": 4,
 "nbformat_minor": 2
}
