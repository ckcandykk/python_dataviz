{
 "cells": [
  {
   "cell_type": "markdown",
   "metadata": {},
   "source": [
    "# Function \n",
    "#### คือสิ่งที่ช่วยให้เราไม่ต้องเขียน code เดิมๆ หลายรอบ\n",
    "#### รับ input เอา input มาประมวลผลเป็น output\n",
    "### print ชื่อ XXX นามสกุล YYY รหัส ZZZ\n",
    "### print  เกรด วิชา Stat 1 >> AAA "
   ]
  },
  {
   "cell_type": "code",
   "execution_count": 1,
   "metadata": {},
   "outputs": [
    {
     "name": "stdout",
     "output_type": "stream",
     "text": [
      "ชื่อ ขวัญจิรา นามสกุล คำสรดี รหัส 603021106-3\n"
     ]
    }
   ],
   "source": [
    "a = f'ชื่อ ขวัญจิรา นามสกุล คำสรดี รหัส 603021106-3'\n",
    "print(a)"
   ]
  },
  {
   "cell_type": "code",
   "execution_count": 2,
   "metadata": {},
   "outputs": [
    {
     "name": "stdout",
     "output_type": "stream",
     "text": [
      "ชื่อ ขวัญจิรา นามสกุล คำสรดี รหัส 603021106-3\n"
     ]
    }
   ],
   "source": [
    "name = 'ขวัญจิรา'\n",
    "surname = 'คำสรดี'\n",
    "ID = '603021106-3'\n",
    "\n",
    "b = f'ชื่อ {name} นามสกุล {surname} รหัส {ID}'\n",
    "print(b)"
   ]
  },
  {
   "cell_type": "markdown",
   "metadata": {},
   "source": [
    "## Function template\n",
    "~~~ python\n",
    "def function_name(input):\n",
    "    do_something\n",
    "    return output\n",
    "~~~"
   ]
  },
  {
   "cell_type": "markdown",
   "metadata": {},
   "source": [
    "### normal function (ฟังก์ชั่นแบบปกติ)"
   ]
  },
  {
   "cell_type": "code",
   "execution_count": 3,
   "metadata": {},
   "outputs": [],
   "source": [
    "def print_line1(name1,surname1,ID1):\n",
    "    st = f'ชื่อ {name1} นามสกุล {surname1} รหัส {ID1}'\n",
    "    return st"
   ]
  },
  {
   "cell_type": "code",
   "execution_count": 4,
   "metadata": {},
   "outputs": [
    {
     "name": "stdout",
     "output_type": "stream",
     "text": [
      "ชื่อ กาญจนา นามสกุล ประสาคุณ รหัส 603021855-2\n"
     ]
    }
   ],
   "source": [
    "print(print_line1('กาญจนา','ประสาคุณ','603021855-2'))"
   ]
  },
  {
   "cell_type": "markdown",
   "metadata": {},
   "source": [
    "### function without output (ฟังก์ชั่นไม่มี output)"
   ]
  },
  {
   "cell_type": "code",
   "execution_count": 8,
   "metadata": {},
   "outputs": [],
   "source": [
    "def print_2lines(name1,surname1,ID1,grade):\n",
    "    st = f'ชื่อ {name1} นามสกุล {surname1} รหัส {ID1}'\n",
    "    print(st)\n",
    "    st2 = f'เกรดวิชา stat1 >>> {grade}'\n",
    "    print(st2)"
   ]
  },
  {
   "cell_type": "code",
   "execution_count": 9,
   "metadata": {},
   "outputs": [
    {
     "name": "stdout",
     "output_type": "stream",
     "text": [
      "ชื่อ กาญจนา นามสกุล ประสาคุณ รหัส 603021855-2\n",
      "เกรดวิชา stat1 >>> A\n"
     ]
    }
   ],
   "source": [
    "print_2lines('กาญจนา','ประสาคุณ','603021855-2','A')"
   ]
  },
  {
   "cell_type": "code",
   "execution_count": 10,
   "metadata": {},
   "outputs": [
    {
     "name": "stdout",
     "output_type": "stream",
     "text": [
      "ชื่อ ขวัญจิรา นามสกุล คำสรดี รหัส 603021106-3\n",
      "เกรดวิชา stat1 >>> A\n",
      "ชื่อ ปภัสรา นามสกุล ปัญจารักษ์ รหัส 603021871-4\n",
      "เกรดวิชา stat1 >>> A\n",
      "ชื่อ นิธิศ นามสกุล ประวิตรกาญจน์ รหัส 603021869-1\n",
      "เกรดวิชา stat1 >>> A\n",
      "ชื่อ ปนัดดา นามสกุล เกษอรุณศรี รหัส 603021870-6\n",
      "เกรดวิชา stat1 >>> A\n"
     ]
    }
   ],
   "source": [
    "print_2lines('ขวัญจิรา','คำสรดี','603021106-3','A')\n",
    "print_2lines('ปภัสรา','ปัญจารักษ์','603021871-4','A')\n",
    "print_2lines('นิธิศ','ประวิตรกาญจน์','603021869-1','A')\n",
    "print_2lines('ปนัดดา','เกษอรุณศรี','603021870-6','A')"
   ]
  },
  {
   "cell_type": "markdown",
   "metadata": {},
   "source": [
    "### function without input (ฟังก์ชั่นไม่มี input)"
   ]
  },
  {
   "cell_type": "code",
   "execution_count": 11,
   "metadata": {},
   "outputs": [],
   "source": [
    "def two_X_three():\n",
    "    x = 2*3\n",
    "    return x"
   ]
  },
  {
   "cell_type": "code",
   "execution_count": 12,
   "metadata": {},
   "outputs": [
    {
     "data": {
      "text/plain": [
       "6"
      ]
     },
     "execution_count": 12,
     "metadata": {},
     "output_type": "execute_result"
    }
   ],
   "source": [
    "two_X_three()"
   ]
  },
  {
   "cell_type": "markdown",
   "metadata": {},
   "source": [
    "### function with default argument (ฟังก์ชั่นที่มีอาร์กิวเมนต์เริ่มต้น)"
   ]
  },
  {
   "cell_type": "code",
   "execution_count": 13,
   "metadata": {},
   "outputs": [],
   "source": [
    "def print_2lines_default(name1,surname1,ID1,grade='F'):\n",
    "    st = f'ชื่อ {name1} นามสกุล {surname1} รหัส {ID1}'\n",
    "    print(st)\n",
    "    st2 = f'เกรดวิชา stat1 >>> {grade}'\n",
    "    print(st2)"
   ]
  },
  {
   "cell_type": "code",
   "execution_count": 14,
   "metadata": {},
   "outputs": [
    {
     "name": "stdout",
     "output_type": "stream",
     "text": [
      "ชื่อ กาญจนา นามสกุล ประสาคุณ รหัส 603021855-2\n",
      "เกรดวิชา stat1 >>> F\n"
     ]
    }
   ],
   "source": [
    "print_2lines_default('กาญจนา','ประสาคุณ','603021855-2')"
   ]
  },
  {
   "cell_type": "code",
   "execution_count": 15,
   "metadata": {},
   "outputs": [
    {
     "name": "stdout",
     "output_type": "stream",
     "text": [
      "ชื่อ กาญจนา นามสกุล ประสาคุณ รหัส 603021855-2\n",
      "เกรดวิชา stat1 >>> A\n"
     ]
    }
   ],
   "source": [
    "print_2lines_default('กาญจนา','ประสาคุณ','603021855-2','A')"
   ]
  },
  {
   "cell_type": "code",
   "execution_count": 16,
   "metadata": {},
   "outputs": [
    {
     "name": "stdout",
     "output_type": "stream",
     "text": [
      "ชื่อ ประสาคุณ นามสกุล กาญจนา รหัส 603021855-2\n",
      "เกรดวิชา stat1 >>> F\n"
     ]
    }
   ],
   "source": [
    "print_2lines_default(surname1 = 'กาญจนา',name1 = 'ประสาคุณ',ID1 = '603021855-2')"
   ]
  },
  {
   "cell_type": "markdown",
   "metadata": {},
   "source": [
    "# Loop (วนซ้ำ)"
   ]
  },
  {
   "cell_type": "markdown",
   "metadata": {},
   "source": [
    "``` python\n",
    "for each_member in ListA:\n",
    "    do something\n",
    "```"
   ]
  },
  {
   "cell_type": "code",
   "execution_count": 17,
   "metadata": {},
   "outputs": [
    {
     "name": "stdout",
     "output_type": "stream",
     "text": [
      "1\n",
      "2\n",
      "3\n"
     ]
    }
   ],
   "source": [
    "for i in [1,2,3]:\n",
    "    print(i)"
   ]
  },
  {
   "cell_type": "code",
   "execution_count": 21,
   "metadata": {},
   "outputs": [
    {
     "name": "stdout",
     "output_type": "stream",
     "text": [
      "K -> /\n",
      "w -> /\n",
      "a -> /\n",
      "n -> /\n",
      "j -> /\n",
      "i -> /\n",
      "r -> /\n",
      "a -> /\n"
     ]
    }
   ],
   "source": [
    "for i in 'Kwanjira':\n",
    "    print(f'{i} -> /')"
   ]
  },
  {
   "cell_type": "code",
   "execution_count": 22,
   "metadata": {},
   "outputs": [
    {
     "name": "stdout",
     "output_type": "stream",
     "text": [
      "K -> /\n",
      " \n",
      "w -> /\n",
      " \n",
      "a -> /\n",
      " \n",
      "n -> /\n",
      " \n",
      "j -> /\n",
      " \n",
      "i -> /\n",
      " \n",
      "r -> /\n",
      " \n",
      "a -> /\n",
      " \n"
     ]
    }
   ],
   "source": [
    "for i in 'Kwanjira':\n",
    "    print(f'{i} -> /')\n",
    "    print(' ')"
   ]
  },
  {
   "cell_type": "markdown",
   "metadata": {},
   "source": [
    "## 1. สร้าง list ชื่อเพื่อนที่อยู่ในแถวยาวเดียวกัน \n",
    "## 1.5 สร้าง function print ประโยคว่า xxxเรา  yyyความรู้สึก  zzzเพื่อน ทุกคนในแถว\n",
    "## 2. วนลูป เรียกฟังก์ชัน"
   ]
  },
  {
   "cell_type": "markdown",
   "metadata": {},
   "source": [
    "## Function in loop (ฟังก์ชั่นในลูป)"
   ]
  },
  {
   "cell_type": "code",
   "execution_count": 62,
   "metadata": {},
   "outputs": [],
   "source": [
    "friend_list = ['แป้ง','ฟลุ๊ค','เนส','ออย','แบม']"
   ]
  },
  {
   "cell_type": "code",
   "execution_count": 57,
   "metadata": {},
   "outputs": [],
   "source": [
    "def print_feeling(I,feeling,friend):\n",
    "    print(f'{I} {feeling} {friend}')"
   ]
  },
  {
   "cell_type": "code",
   "execution_count": 58,
   "metadata": {},
   "outputs": [
    {
     "name": "stdout",
     "output_type": "stream",
     "text": [
      "ขวัญจิรา รัก แป้ง\n"
     ]
    }
   ],
   "source": [
    "print_feeling('ขวัญจิรา','รัก','แป้ง')"
   ]
  },
  {
   "cell_type": "code",
   "execution_count": 59,
   "metadata": {},
   "outputs": [
    {
     "name": "stdout",
     "output_type": "stream",
     "text": [
      "ขวัญจิรา รัก แป้ง\n",
      "ขวัญจิรา รัก ฟลุ๊ค\n",
      "ขวัญจิรา รัก เนส\n",
      "ขวัญจิรา รัก ออย\n",
      "ขวัญจิรา รัก แบม\n"
     ]
    }
   ],
   "source": [
    "for f in friend_list:\n",
    "    print_feeling('ขวัญจิรา','รัก',f)"
   ]
  },
  {
   "cell_type": "markdown",
   "metadata": {},
   "source": [
    "## loop in loop (ลูปในลูป)"
   ]
  },
  {
   "cell_type": "code",
   "execution_count": 72,
   "metadata": {},
   "outputs": [
    {
     "name": "stdout",
     "output_type": "stream",
     "text": [
      "แป้ง รัก แป้ง\n",
      "แป้ง รัก ฟลุ๊ค\n",
      "แป้ง รัก เนส\n",
      "แป้ง รัก ออย\n",
      "แป้ง รัก แบม\n",
      "ฟลุ๊ค รัก แป้ง\n",
      "ฟลุ๊ค รัก ฟลุ๊ค\n",
      "ฟลุ๊ค รัก เนส\n",
      "ฟลุ๊ค รัก ออย\n",
      "ฟลุ๊ค รัก แบม\n",
      "เนส รัก แป้ง\n",
      "เนส รัก ฟลุ๊ค\n",
      "เนส รัก เนส\n",
      "เนส รัก ออย\n",
      "เนส รัก แบม\n",
      "ออย รัก แป้ง\n",
      "ออย รัก ฟลุ๊ค\n",
      "ออย รัก เนส\n",
      "ออย รัก ออย\n",
      "ออย รัก แบม\n",
      "แบม รัก แป้ง\n",
      "แบม รัก ฟลุ๊ค\n",
      "แบม รัก เนส\n",
      "แบม รัก ออย\n",
      "แบม รัก แบม\n"
     ]
    }
   ],
   "source": [
    "for name1 in friend_list:\n",
    "    for name2 in friend_list:\n",
    "        print_feeling(name1,'รัก',name2)"
   ]
  },
  {
   "cell_type": "markdown",
   "metadata": {},
   "source": [
    "## Loop in function (ลูปในฟังก์ชั่น)"
   ]
  },
  {
   "cell_type": "code",
   "execution_count": 60,
   "metadata": {},
   "outputs": [],
   "source": [
    "def print_feelings(I,feeling,friends):\n",
    "    for friend in friends:\n",
    "        print(f'{I} {feeling} {friend}')"
   ]
  },
  {
   "cell_type": "code",
   "execution_count": 63,
   "metadata": {},
   "outputs": [
    {
     "name": "stdout",
     "output_type": "stream",
     "text": [
      "ขวัญจิรา รัก แป้ง\n",
      "ขวัญจิรา รัก ฟลุ๊ค\n",
      "ขวัญจิรา รัก เนส\n",
      "ขวัญจิรา รัก ออย\n",
      "ขวัญจิรา รัก แบม\n"
     ]
    }
   ],
   "source": [
    "print_feelings('ขวัญจิรา','รัก',friend_list)"
   ]
  },
  {
   "cell_type": "markdown",
   "metadata": {},
   "source": [
    "# loop in dict (ลูปในดิก)"
   ]
  },
  {
   "cell_type": "code",
   "execution_count": 64,
   "metadata": {},
   "outputs": [
    {
     "data": {
      "text/plain": [
       "{'ขวัญจิรา': 'A', 'ศุภนิตา': 'C', 'ปนัดดา': 'A', 'ทรงกลด': 'F'}"
      ]
     },
     "execution_count": 64,
     "metadata": {},
     "output_type": "execute_result"
    }
   ],
   "source": [
    "name_grade = {'ขวัญจิรา':'A','ศุภนิตา':'C','ปนัดดา':'A','ทรงกลด':'F'}\n",
    "name_grade"
   ]
  },
  {
   "cell_type": "code",
   "execution_count": 65,
   "metadata": {},
   "outputs": [
    {
     "data": {
      "text/plain": [
       "'A'"
      ]
     },
     "execution_count": 65,
     "metadata": {},
     "output_type": "execute_result"
    }
   ],
   "source": [
    "name_grade['ปนัดดา']"
   ]
  },
  {
   "cell_type": "code",
   "execution_count": 67,
   "metadata": {},
   "outputs": [
    {
     "data": {
      "text/plain": [
       "dict_keys(['ขวัญจิรา', 'ศุภนิตา', 'ปนัดดา', 'ทรงกลด'])"
      ]
     },
     "execution_count": 67,
     "metadata": {},
     "output_type": "execute_result"
    }
   ],
   "source": [
    "name_grade.keys()"
   ]
  },
  {
   "cell_type": "code",
   "execution_count": 70,
   "metadata": {},
   "outputs": [
    {
     "name": "stdout",
     "output_type": "stream",
     "text": [
      "ขวัญจิรา ได้เกรด A\n",
      "ศุภนิตา ได้เกรด C\n",
      "ปนัดดา ได้เกรด A\n",
      "ทรงกลด ได้เกรด F\n"
     ]
    }
   ],
   "source": [
    "for i in name_grade.keys():\n",
    "    print(f'{i} ได้เกรด {name_grade [i]}')"
   ]
  },
  {
   "cell_type": "markdown",
   "metadata": {},
   "source": [
    "# Conditional (เงื่อนไข)"
   ]
  },
  {
   "cell_type": "markdown",
   "metadata": {},
   "source": [
    "# == , != , >= , <= , > , < สัญลักษณ์ที่ใช้ใน condition"
   ]
  },
  {
   "cell_type": "markdown",
   "metadata": {},
   "source": [
    "``` python\n",
    "if condition1:\n",
    "    do something\n",
    "elif condition2:\n",
    "    do another thing\n",
    "else:\n",
    "    do ...\n",
    "```"
   ]
  },
  {
   "cell_type": "code",
   "execution_count": 76,
   "metadata": {},
   "outputs": [
    {
     "name": "stdout",
     "output_type": "stream",
     "text": [
      "แป้ง รัก ฟลุ๊ค\n",
      "แป้ง รัก เนส\n",
      "แป้ง รัก ออย\n",
      "แป้ง รัก แบม\n",
      "ฟลุ๊ค รัก แป้ง\n",
      "ฟลุ๊ค รัก เนส\n",
      "ฟลุ๊ค รัก ออย\n",
      "ฟลุ๊ค รัก แบม\n",
      "เนส รัก แป้ง\n",
      "เนส รัก ฟลุ๊ค\n",
      "เนส รัก ออย\n",
      "เนส รัก แบม\n",
      "ออย รัก แป้ง\n",
      "ออย รัก ฟลุ๊ค\n",
      "ออย รัก เนส\n",
      "ออย รัก แบม\n",
      "แบม รัก แป้ง\n",
      "แบม รัก ฟลุ๊ค\n",
      "แบม รัก เนส\n",
      "แบม รัก ออย\n"
     ]
    }
   ],
   "source": [
    "for name1 in friend_list:\n",
    "    for name2 in friend_list:\n",
    "        if name1 != name2:\n",
    "            print_feeling(name1,'รัก',name2)"
   ]
  },
  {
   "cell_type": "code",
   "execution_count": 77,
   "metadata": {},
   "outputs": [
    {
     "name": "stdout",
     "output_type": "stream",
     "text": [
      "Yes\n"
     ]
    }
   ],
   "source": [
    "if True:\n",
    "    print('Yes')"
   ]
  },
  {
   "cell_type": "code",
   "execution_count": 78,
   "metadata": {},
   "outputs": [],
   "source": [
    "if False:\n",
    "    print('No')"
   ]
  },
  {
   "cell_type": "code",
   "execution_count": 79,
   "metadata": {},
   "outputs": [
    {
     "name": "stdout",
     "output_type": "stream",
     "text": [
      "No\n"
     ]
    }
   ],
   "source": [
    "if False:\n",
    "    print('Yes')\n",
    "else:\n",
    "    print('No')"
   ]
  },
  {
   "cell_type": "code",
   "execution_count": 80,
   "metadata": {},
   "outputs": [
    {
     "data": {
      "text/plain": [
       "True"
      ]
     },
     "execution_count": 80,
     "metadata": {},
     "output_type": "execute_result"
    }
   ],
   "source": [
    "1 == 1"
   ]
  },
  {
   "cell_type": "code",
   "execution_count": 82,
   "metadata": {},
   "outputs": [
    {
     "name": "stdout",
     "output_type": "stream",
     "text": [
      "1=1\n"
     ]
    }
   ],
   "source": [
    "if 1 == 1:\n",
    "    print('1=1')"
   ]
  },
  {
   "cell_type": "markdown",
   "metadata": {},
   "source": [
    "## HW\n",
    "## เขียน Function ตัดเกรด โดยที่ input เป็นคะแนน(0-100) output เป็นเกรด(F-A)\n",
    "input = [1, 50, 65, 90, 101, -5, 49]"
   ]
  },
  {
   "cell_type": "code",
   "execution_count": 1,
   "metadata": {},
   "outputs": [],
   "source": [
    "input_G = [1,50,65,90,101,-5,49]"
   ]
  },
  {
   "cell_type": "code",
   "execution_count": 2,
   "metadata": {},
   "outputs": [
    {
     "name": "stdout",
     "output_type": "stream",
     "text": [
      "F\n",
      "D\n",
      "C+\n",
      "A\n",
      "A\n",
      "F\n",
      "F\n"
     ]
    }
   ],
   "source": [
    "for i in input_G:\n",
    "    if i>79:\n",
    "        print('A')\n",
    "    elif i>74:\n",
    "        print('B+')\n",
    "    elif i>69:\n",
    "        print('B')\n",
    "    elif i>64:\n",
    "        print('C+')\n",
    "    elif i>59:\n",
    "        print('C')\n",
    "    elif i>54:\n",
    "        print('D+')\n",
    "    elif i>49:\n",
    "        print('D')\n",
    "    else:\n",
    "        print('F')"
   ]
  },
  {
   "cell_type": "code",
   "execution_count": null,
   "metadata": {},
   "outputs": [],
   "source": []
  }
 ],
 "metadata": {
  "kernelspec": {
   "display_name": "Python 3",
   "language": "python",
   "name": "python3"
  },
  "language_info": {
   "codemirror_mode": {
    "name": "ipython",
    "version": 3
   },
   "file_extension": ".py",
   "mimetype": "text/x-python",
   "name": "python",
   "nbconvert_exporter": "python",
   "pygments_lexer": "ipython3",
   "version": "3.7.3"
  }
 },
 "nbformat": 4,
 "nbformat_minor": 2
}
